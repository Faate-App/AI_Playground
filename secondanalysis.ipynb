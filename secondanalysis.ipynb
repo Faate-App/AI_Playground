{
 "cells": [
  {
   "cell_type": "code",
   "execution_count": 1,
   "metadata": {},
   "outputs": [
    {
     "name": "stderr",
     "output_type": "stream",
     "text": [
      "c:\\Python311\\Lib\\site-packages\\numpy\\_distributor_init.py:30: UserWarning: loaded more than 1 DLL from .libs:\n",
      "c:\\Python311\\Lib\\site-packages\\numpy\\.libs\\libopenblas.FB5AE2TYXYH2IJRDKGDGQ3XBKLKTF43H.gfortran-win_amd64.dll\n",
      "c:\\Python311\\Lib\\site-packages\\numpy\\.libs\\libopenblas64__v0.3.21-gcc_10_3_0.dll\n",
      "  warnings.warn(\"loaded more than 1 DLL from .libs:\"\n"
     ]
    }
   ],
   "source": [
    "import pandas as pd\n",
    "import numpy as np\n",
    "from deepface import DeepFace\n",
    "import re\n",
    "import requests\n",
    "from geopy.geocoders import Nominatim\n",
    "import geopandas as gpd\n",
    "from shapely.geometry import Point\n",
    "\n",
    "#IMPORT DATASET\n",
    "datacouple = pd.read_excel(\"data//ip1774.xls\", sheet_name=\"Figure 1\")\n",
    "datacouple = datacouple.dropna()\n",
    "personnevivantseul = pd.read_excel(\"data//demo-couple-pers-seul-log-age.xlsx\")\n",
    "basecouple = pd.read_excel(\"data//base-ic-couples-familles-menages-2020.xlsx\", sheet_name=\"IRIS\")  "
   ]
  },
  {
   "cell_type": "code",
   "execution_count": null,
   "metadata": {},
   "outputs": [],
   "source": [
    "class Person:\n",
    "    def __init__(self, nom, prenom, age, sexe, taille, photo,long,lat):\n",
    "        self.nom = nom\n",
    "        self.prenom = prenom\n",
    "        self.age = age\n",
    "        self.sexe = sexe\n",
    "        self.taille = taille\n",
    "        self.photo = photo\n",
    "        self.emotion = \"\"\n",
    "        self.race = \"\"  \n",
    "        taille_m = taille / 100  # Convertir la taille en mètres\n",
    "        self.poids = estimer_poids(taille)\n",
    "        self.vivreseul = 0\n",
    "        self.address = \"\"\n",
    "        self.long = long\n",
    "        self.lat = lat\n",
    "        self.IRISdata = []\n",
    "        \n",
    "    def __str__(self):\n",
    "        return pd.DataFrame({'Nom': [self.nom], 'Prénom': [self.prenom], 'Age': [self.age], 'Sexe': [self.sexe], 'Taille': [self.taille], 'Photo': [self.photo], 'Emotion': [self.emotion], 'Race': [self.race], 'Poids': [self.poids],'Vivre seul' : [self.vivreseul]}).to_string(index=False)\n",
    "    "
   ]
  },
  {
   "cell_type": "code",
   "execution_count": null,
   "metadata": {},
   "outputs": [],
   "source": []
  }
 ],
 "metadata": {
  "kernelspec": {
   "display_name": "Python 3",
   "language": "python",
   "name": "python3"
  },
  "language_info": {
   "codemirror_mode": {
    "name": "ipython",
    "version": 3
   },
   "file_extension": ".py",
   "mimetype": "text/x-python",
   "name": "python",
   "nbconvert_exporter": "python",
   "pygments_lexer": "ipython3",
   "version": "3.11.1"
  }
 },
 "nbformat": 4,
 "nbformat_minor": 2
}
