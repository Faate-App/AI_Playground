{
 "cells": [
  {
   "cell_type": "markdown",
   "metadata": {},
   "source": [
    "Import of the library"
   ]
  },
  {
   "cell_type": "code",
   "execution_count": 25,
   "metadata": {},
   "outputs": [],
   "source": [
    "import pandas as pd\n",
    "import numpy as np\n",
    "from deepface import DeepFace\n",
    "import re\n",
    "import requests\n",
    "from geopy.geocoders import Nominatim\n",
    "import geopandas as gpd\n",
    "from shapely.geometry import Point\n",
    "import random\n",
    "from faker import Faker\n",
    "from datetime import datetime\n",
    "import os\n",
    "from transformers import pipeline"
   ]
  },
  {
   "cell_type": "code",
   "execution_count": 34,
   "metadata": {},
   "outputs": [],
   "source": [
    "def get_iris_code_from_coordinates(latitude, longitude):\n",
    "    # URL de l'API avec les coordonnées passées en paramètres\n",
    "    api_url = f\"https://pyris.datajazz.io/api/coords?lat={latitude}&lon={longitude}\"\n",
    "    try:\n",
    "        # Effectuer la requête GET vers l'API\n",
    "        response = requests.get(api_url)\n",
    "        \n",
    "        # Vérifier si la requête a réussi (code de statut 200)\n",
    "        if response.status_code == 200:\n",
    "            # Extraire les données JSON de la réponse\n",
    "            data = response.json()\n",
    "            \n",
    "            # Extraire le code IRIS\n",
    "            iris_code = data.get(\"complete_code\")\n",
    "            \n",
    "            if iris_code:\n",
    "                return iris_code\n",
    "            else:\n",
    "                return \"Code IRIS non trouvé dans la réponse API.\"\n",
    "        else:\n",
    "            return f\"Erreur de requête : {response.status_code}\"\n",
    "    except Exception as e:\n",
    "        return f\"Erreur lors de la requête API : {str(e)}\""
   ]
  },
  {
   "cell_type": "code",
   "execution_count": 23,
   "metadata": {},
   "outputs": [],
   "source": [
    "def estimer_poids(taille_cm, imc_cible=22):\n",
    "    \"\"\"\n",
    "    Estime le poids en kilogrammes basé sur la taille en centimètres et un IMC cible.\n",
    "\n",
    "    :param taille_cm: Taille en centimètres\n",
    "    :param imc_cible: Indice de masse corporelle cible (par défaut 22)\n",
    "    :return: Poids estimé en kilogrammes\n",
    "    \"\"\"\n",
    "    taille_m = taille_cm / 100  # Convertir la taille en mètres\n",
    "    poids_estime = imc_cible * (taille_m ** 2)\n",
    "    return poids_estime"
   ]
  },
  {
   "cell_type": "code",
   "execution_count": 57,
   "metadata": {},
   "outputs": [],
   "source": [
    "age_data = {\n",
    "    \"25-29 ans\": {\"Femme\": 1897867, \"Homme\": 1887312},\n",
    "    \"30-34 ans\": {\"Femme\": 2045742, \"Homme\": 1980053},\n",
    "    \"35-39 ans\": {\"Femme\": 2180469, \"Homme\": 2065743},\n",
    "    \"40-44 ans\": {\"Femme\": 2220320, \"Homme\": 2112390},\n",
    "    \"45-49 ans\": {\"Femme\": 2097799, \"Homme\": 2043531},\n",
    "    \"50-54 ans\": {\"Femme\": 2297423, \"Homme\": 2241191},\n",
    "    \"55-59 ans\": {\"Femme\": 2267692, \"Homme\": 2159384}\n",
    "}\n",
    "\n",
    "def extract_age_range(age_group):\n",
    "    # Extrait les bornes de l'intervalle d'âge\n",
    "    start_age, end_age = age_group.split('-')\n",
    "    start_age = int(start_age)\n",
    "    end_age = int(end_age.split(' ')[0])\n",
    "    return start_age, end_age\n",
    "\n",
    "def find_random_age_by_gender(gender):\n",
    "    # Vérification de la validité du sexe\n",
    "    if gender not in [\"Femme\", \"Homme\"]:\n",
    "        return \"Sexe non valide\"\n",
    "\n",
    "    # Calculer les poids pour chaque tranche d'âge\n",
    "    weights = [data[gender] for data in age_data.values()]\n",
    "    \n",
    "    # Choisir une tranche d'âge aléatoire en fonction des poids\n",
    "    chosen_age_group = random.choices(list(age_data.keys()), weights=weights, k=1)[0]\n",
    "    \n",
    "    # Extraire l'intervalle d'âge et générer un âge aléatoire dans cet intervalle\n",
    "    start_age, end_age = extract_age_range(chosen_age_group)\n",
    "    random_age = random.randint(start_age, end_age)\n",
    "\n",
    "    return random_age, chosen_age_group"
   ]
  },
  {
   "cell_type": "code",
   "execution_count": 63,
   "metadata": {},
   "outputs": [],
   "source": [
    "basecouple = pd.read_excel(\"data//base-ic-couples-familles-menages-2020.xlsx\", sheet_name=\"IRIS\")\n",
    "basecouple = basecouple.drop(index=0)"
   ]
  },
  {
   "cell_type": "code",
   "execution_count": 148,
   "metadata": {},
   "outputs": [
    {
     "ename": "NameError",
     "evalue": "name 'get_data_couple_age' is not defined",
     "output_type": "error",
     "traceback": [
      "\u001b[1;31m---------------------------------------------------------------------------\u001b[0m",
      "\u001b[1;31mNameError\u001b[0m                                 Traceback (most recent call last)",
      "Cell \u001b[1;32mIn[148], line 1\u001b[0m\n\u001b[1;32m----> 1\u001b[0m data_for_gender \u001b[38;5;241m=\u001b[39m \u001b[43mget_data_couple_age\u001b[49m(Person_to_study\u001b[38;5;241m.\u001b[39mage,  Person_to_study\u001b[38;5;241m.\u001b[39msexe, datacouple)\n\u001b[0;32m      3\u001b[0m \u001b[38;5;28mprint\u001b[39m(data_for_gender)\n",
      "\u001b[1;31mNameError\u001b[0m: name 'get_data_couple_age' is not defined"
     ]
    }
   ],
   "source": []
  },
  {
   "cell_type": "code",
   "execution_count": 79,
   "metadata": {},
   "outputs": [],
   "source": [
    "datacouple = pd.read_excel(\"data//ip1774.xls\", sheet_name=\"Figure 1\")\n",
    "datacouple = datacouple.dropna()"
   ]
  },
  {
   "cell_type": "code",
   "execution_count": 81,
   "metadata": {},
   "outputs": [],
   "source": [
    "personnevivantseul = pd.read_excel(\"data//demo-couple-pers-seul-log-age.xlsx\")"
   ]
  },
  {
   "cell_type": "code",
   "execution_count": 77,
   "metadata": {},
   "outputs": [
    {
     "name": "stdout",
     "output_type": "stream",
     "text": [
      "332430108\n"
     ]
    }
   ],
   "source": [
    "def choose_iris_weighted(iris_data):\n",
    "    iris_list = iris_data['IRIS'].tolist()\n",
    "    weights = iris_data['Pop Ménages en 2020 (compl)'].tolist()\n",
    "    chosen_iris = random.choices(iris_list, weights=weights, k=1)\n",
    "    return chosen_iris[0]\n",
    "\n",
    "# Sélectionner un IRIS de manière aléatoire pondérée\n",
    "\n",
    "\n",
    "chosen_iris = choose_iris_weighted(basecouple)\n",
    "print(chosen_iris)"
   ]
  },
  {
   "cell_type": "code",
   "execution_count": 87,
   "metadata": {},
   "outputs": [],
   "source": [
    "def age_to_interval(age_str):\n",
    "    try:\n",
    "        # Utiliser des expressions régulières pour extraire les nombres\n",
    "        numbers = re.findall(r'\\d+', age_str)\n",
    "        if age_str == \"Ensemble\" or \"en millions\" in age_str:\n",
    "            return None\n",
    "        if \"plus\" in age_str:\n",
    "            # Gérer les cas comme \"65 ans ou plus\"\n",
    "            return pd.Interval(int(numbers[0]), float('inf'), closed='left')\n",
    "        elif len(numbers) >= 2:\n",
    "            # Gérer les cas avec deux nombres, comme \"15 à 19 ans\"\n",
    "            return pd.Interval(int(numbers[0]), int(numbers[1]), closed='left')\n",
    "        else:\n",
    "            raise ValueError(\"Format d'âge non reconnu\")\n",
    "    except ValueError as e:\n",
    "        print(f\"Erreur avec l'entrée : '{age_str}' - {e}\")\n",
    "        raise\n"
   ]
  },
  {
   "cell_type": "code",
   "execution_count": 88,
   "metadata": {},
   "outputs": [],
   "source": [
    "\n",
    "def find_age_interval(age, df):\n",
    "    for interval in df['Age Range']:\n",
    "        if interval.left <= age < interval.right:\n",
    "            return interval\n",
    "    return \"Âge non trouvé dans les intervalles\""
   ]
  },
  {
   "cell_type": "code",
   "execution_count": 90,
   "metadata": {},
   "outputs": [],
   "source": [
    "def get_proportion(age, gender, df):\n",
    "    # Trouver l'intervalle d'âge\n",
    "    interval = find_age_interval(age, df)\n",
    "    if interval == \"Âge non trouvé dans les intervalles\":\n",
    "        return interval\n",
    "    \n",
    "    # Sélectionner la ligne correspondante à l'intervalle d'âge\n",
    "    row = df[df['Age Range'] == interval]\n",
    "    \n",
    "    # Sélectionner la colonne en fonction du sexe\n",
    "    if gender.lower() == 'femme':\n",
    "        proportion = row['Femmes'].values[0]\n",
    "    elif gender.lower() == 'homme':\n",
    "        proportion = row['Hommes'].values[0]\n",
    "    else:\n",
    "        return \"Sexe non reconnu\"\n",
    "    \n",
    "    # Construire la phrase récapitulative\n",
    "    return proportion"
   ]
  },
  {
   "cell_type": "code",
   "execution_count": 206,
   "metadata": {},
   "outputs": [],
   "source": [
    "def statcouple(IRIS):\n",
    "    populationtotal = basecouple[basecouple[\"IRIS\"] == IRIS][\"Pop Ménages en 2020 (compl)\"]\n",
    "    populationtotal = populationtotal[populationtotal.index[0]]\n",
    "    proba_statuts = {}\n",
    "    unionlibre = basecouple[basecouple[\"IRIS\"] == IRIS][\"Pop 15 ans ou plus en concubinage ou union libre en 2020 (princ)\"]\n",
    "    unionlibre = unionlibre[unionlibre.index[0]]/populationtotal\n",
    "    proba_statuts[\"unionlibre\"] = unionlibre\n",
    "    pacsée = basecouple[basecouple[\"IRIS\"] == IRIS][\"Pop 15 ans ou plus pacsée en 2020 (princ)\"]\n",
    "    pacsée = pacsée[pacsée.index[0]]/populationtotal\n",
    "    proba_statuts[\"pacsée\"] = pacsée\n",
    "    marier = basecouple[basecouple[\"IRIS\"] == IRIS][\"Pop 15 ans ou plus mariée en 2020 (princ)\"]\n",
    "    marier = marier[marier.index[0]]/populationtotal\n",
    "    proba_statuts[\"marier\"] = marier\n",
    "    popu_veuf = basecouple[basecouple[\"IRIS\"] == IRIS][\"Pop 15 ans ou plus veuves ou veufs en 2020 (princ)\"]\n",
    "    popu_veuf = popu_veuf[popu_veuf.index[0]]/populationtotal\n",
    "    proba_statuts[\"popu_veuf\"] = popu_veuf\n",
    "    popu_divorce = basecouple[basecouple[\"IRIS\"] == IRIS][\"Pop 15 ans ou plus divorcée en 2020 (princ)\"]\n",
    "    popu_divorce = popu_divorce[popu_divorce.index[0]]/populationtotal\n",
    "    proba_statuts[\"popu_divorce\"] = popu_divorce\n",
    "    popu_celib = basecouple[basecouple[\"IRIS\"] == IRIS][\"Pop 15 ans ou plus célibataire en 2020 (princ)\"]\n",
    "    popu_celib = popu_celib[popu_celib.index[0]]/populationtotal\n",
    "    proba_statuts[\"popu_celib\"] = popu_celib\n",
    "    inconnu = 1 - unionlibre - pacsée - marier - popu_veuf - popu_divorce - popu_celib\n",
    "    proba_statuts[\"inconnu\"] = inconnu\n",
    "    return proba_statuts\n",
    "\n",
    "def random_status(proba_statuts):\n",
    "    statuts = list(proba_statuts.keys())\n",
    "    probabilités = list(proba_statuts.values())\n",
    "    statut_choisi = random.choices(statuts, weights=probabilités, k=1)[0]\n",
    "    return statut_choisi\n",
    "def random_with_proba(probability):\n",
    "    \"\"\"Renvoie True avec la probabilité indiquée, sinon False.\"\"\"\n",
    "    return random.random() < (round(float(probability)) / 100)\n",
    "\n",
    "def education_famille(data_for_gender):\n",
    "    output = {}\n",
    "    # Déterminons si la personne fait partie d'un couple de même sexe\n",
    "    output[\"couple_meme_sexe\"] = random_with_proba(data_for_gender[data_for_gender.index[0]])\n",
    "\n",
    "    # Déterminons le niveau d'éducation de la personne\n",
    "    # On suppose que l'éducation est indépendante du fait d'être en couple de même sexe ou non\n",
    "    output[\"education_bac_plus_3\"] = False\n",
    "    output[\"education_bac\"] = random_with_proba(data_for_gender[data_for_gender.index[2]]) if output[\"couple_meme_sexe\"] \\\n",
    "                    else random_with_proba(data_for_gender[data_for_gender.index[3]])\n",
    "    if output[\"education_bac\"]:\n",
    "        output[\"education_bac_plus_3\"] = random_with_proba(data_for_gender[data_for_gender.index[4]]) if output[\"couple_meme_sexe\"] \\\n",
    "                            else random_with_proba(data_for_gender[data_for_gender.index[5]])\n",
    "\n",
    "    # Nous pouvons décider que si la personne a un bac +3, cela inclut également le bac\n",
    "    \n",
    "\n",
    "    # Déterminons si la personne a un enfant\n",
    "    # On suppose ici que le fait d'avoir un enfant est indépendant du niveau d'éducation et du type de couple\n",
    "    output[\"enfant\"] = random_with_proba(data_for_gender[data_for_gender.index[-1]]) if output[\"couple_meme_sexe\"] \\\n",
    "            else False  # Nous n'avons pas de données pour les couples de sexe différent avec enfants\n",
    "    return output\n",
    "def get_data_couple_age(age, gender, df):\n",
    "    # Adjust the filter to account for both singular and plural forms of \"Homme/Hommes\"\n",
    "    gender_str = 'Homme' if gender.lower() == 'homme' else 'Femme'\n",
    "    \n",
    "    # Find the age interval\n",
    "    interval = find_age_interval(age, df)\n",
    "    if interval == \"Âge non trouvé dans les intervalles\":\n",
    "        return interval\n",
    "    \n",
    "    # Select the row corresponding to the age interval\n",
    "    row = df[df['Age Range'] == interval]\n",
    "    \n",
    "    # Filter the columns based on gender, allowing for both 'Homme' and 'Hommes'\n",
    "    gender_columns = [col for col in df.columns if gender_str in col]\n",
    "    \n",
    "    # Select only the columns that match the gender\n",
    "    gender_data = row[gender_columns].iloc[0]  # Use iloc[0] to select the first (and only) row as a Series\n",
    "    \n",
    "    return gender_data  # Convert to dictionary for easier readability"
   ]
  },
  {
   "cell_type": "code",
   "execution_count": 207,
   "metadata": {},
   "outputs": [
    {
     "name": "stdout",
     "output_type": "stream",
     "text": [
      "    Id     Nom Prénom  Age  Sexe     Taille Photo Emotion  Race     Poids  Vivre seul     IRIS: statut relationnelle :   couple_meme_sexe  enfant  education_bac\n",
      "100001 Legrand Margot   57 Homme 183.526334         happy white 74.100213        True 315552104                  marier             False   False          False\n"
     ]
    }
   ],
   "source": [
    "# Configuration de Faker pour la génération de données\n",
    "fake = Faker('fr_FR')\n",
    "\n",
    "# Nombre de défunt à générer\n",
    "num_defunts = 5\n",
    "\n",
    "# Création d'une liste pour stocker les données\n",
    "defunts_data = []\n",
    "\n",
    "# Définition de l'URL de base pour les chemins fictifs des photos et vidéos\n",
    "base_path = \"\"\n",
    "class Person:\n",
    "    def __init__(self,id, nom, prenom, age, sexe, taille, photo,long,lat):\n",
    "        self.id = id\n",
    "        self.nom = nom\n",
    "        self.prenom = prenom\n",
    "        self.age = age\n",
    "        self.sexe = sexe\n",
    "        self.taille = taille\n",
    "        self.photo = photo\n",
    "        emotions = {\n",
    "            'angry': 0.10,   # 10% de chances d'être en colère\n",
    "            'disgust': 0.05,  # 5% de chances d'être dégoûté\n",
    "            'fear': 0.10,    # 10% de chances d'avoir peur\n",
    "            'happy': 0.40,   # 40% de chances d'être heureux\n",
    "            'sad': 0.20,     # 20% de chances d'être triste\n",
    "            'surprise': 0.10, # 10% de chances d'être surpris\n",
    "            'neutral': 0.05   # 5% de chances d'être neutre\n",
    "        }\n",
    "        if not isinstance(personnevivantseul['Age'].iloc[0], pd.Interval):\n",
    "            personnevivantseul['Age Range'] = personnevivantseul['Age'].apply(age_to_interval)\n",
    "        else:\n",
    "            personnevivantseul['Age Range'] = personnevivantseul['Age']\n",
    "        pourcentage_seul = get_proportion(age, sexe, personnevivantseul)\n",
    "        if not isinstance(datacouple['Age'].iloc[0], pd.Interval):\n",
    "            datacouple['Age Range'] = datacouple['Age'].apply(age_to_interval)\n",
    "        else:\n",
    "            # Si \"Age\" est déjà une colonne d'intervalles, utilisez-la directement\n",
    "            datacouple['Age Range'] = datacouple['Age']\n",
    "        self.seul = random.random() < ((pourcentage_seul+20) / 100)\n",
    "        self.emotion = random.choices(list(emotions.keys()), weights=emotions.values(), k=1)[0]\n",
    "        races = ['asian', 'indian', 'black', 'white', 'middle eastern', 'latino hispanic']\n",
    "        # Poids basés sur une estimation de la répartition démographique en France\n",
    "        weights = [0.05, 0.02, 0.03, 0.85, 0.03, 0.02]  # Ces valeurs sont des exemples\n",
    "        self.race = random.choices(races, weights=weights, k=1)[0]\n",
    "        taille_m = taille / 100  # Convertir la taille en mètres\n",
    "        self.poids = estimer_poids(taille)\n",
    "        self.address = \"\"\n",
    "        self.long = long\n",
    "        data_for_gender = get_data_couple_age(age,  sexe, datacouple)\n",
    "        result = education_famille(data_for_gender)\n",
    "        self.couple_meme_sexe = result[\"couple_meme_sexe\"]\n",
    "        self.enfant = result[\"enfant\"]\n",
    "        self.education_bac = result[\"education_bac\"]\n",
    "        self.lat = lat\n",
    "        self.IRIScode = choose_iris_weighted(basecouple)\n",
    "        proba_statuts = statcouple(self.IRIScode) \n",
    "        self.statut_relationnel = random_status(proba_statuts)\n",
    "    def __str__(self):\n",
    "        return pd.DataFrame({'Id':[self.id],'Nom': [self.nom], 'Prénom': [self.prenom], 'Age': [self.age], 'Sexe': [self.sexe], 'Taille': [self.taille], 'Photo': [self.photo], \n",
    "                             'Emotion': [self.emotion], 'Race': [self.race], 'Poids': [self.poids],'Vivre seul' : [self.seul],\n",
    "                             'IRIS:':[self.IRIScode],\"statut relationnelle : \":[self.statut_relationnel], \"couple_meme_sexe\":[self.couple_meme_sexe],\n",
    "                             \"enfant\":[self.enfant],\"education_bac\":[self.education_bac]}).to_string(index=False)\n",
    "\n",
    "# Génération des données fictives pour les défunts\n",
    "personne = []\n",
    "id = 100000\n",
    "for _ in range(num_defunts):\n",
    "    prenom = fake.first_name()\n",
    "    nom = fake.last_name()\n",
    "    nationalite = \"Française\"\n",
    "    id = id + 1\n",
    "    sexe = random.choice([\"Homme\", \"Femme\"])\n",
    "    if sexe == \"Homme\":\n",
    "        taille = np.random.normal(175, 7)\n",
    "    else:\n",
    "        taille = np.random.normal(162, 7)\n",
    "    age, age_group = find_random_age_by_gender(sexe)\n",
    "    photo = \"\" \n",
    "    latitude = 0\n",
    "    longitude = 0\n",
    "    personne.append(Person(id,nom, prenom, age, sexe, taille, \"\",longitude,latitude))\n",
    "print(personne[0])\n"
   ]
  },
  {
   "cell_type": "code",
   "execution_count": 202,
   "metadata": {},
   "outputs": [
    {
     "name": "stdout",
     "output_type": "stream",
     "text": [
      "Couples de même sexe Femmes                          0.9\n",
      "Couples de sexe différent Femmes                    57.1\n",
      "Couples de même sexe ayant le bac Femmes            78.0\n",
      "Couples de sexe différent  ayant le bac Femmes      75.0\n",
      "Couples de même sexe ayant un bac +3 Femme          41.0\n",
      "Couples de sexe différent  ayant un bac +3 Femme    36.0\n",
      "Couples de même sexe Femme ayant un enfant          31.0\n",
      "Name: 2, dtype: float64\n"
     ]
    }
   ],
   "source": [
    "def get_data_couple_age(age, gender, df):\n",
    "    # Adjust the filter to account for both singular and plural forms of \"Homme/Hommes\"\n",
    "    gender_str = 'Homme' if gender.lower() == 'homme' else 'Femme'\n",
    "    \n",
    "    # Find the age interval\n",
    "    interval = find_age_interval(age, df)\n",
    "    if interval == \"Âge non trouvé dans les intervalles\":\n",
    "        return interval\n",
    "    \n",
    "    # Select the row corresponding to the age interval\n",
    "    row = df[df['Age Range'] == interval]\n",
    "    \n",
    "    # Filter the columns based on gender, allowing for both 'Homme' and 'Hommes'\n",
    "    gender_columns = [col for col in df.columns if gender_str in col]\n",
    "    \n",
    "    # Select only the columns that match the gender\n",
    "    gender_data = row[gender_columns].iloc[0]  # Use iloc[0] to select the first (and only) row as a Series\n",
    "    \n",
    "    return gender_data  # Convert to dictionary for easier readability\n",
    "\n",
    "data_for_gender = get_data_couple_age(personne[0].age,  personne[0].sexe, datacouple)\n",
    "print(data_for_gender)"
   ]
  },
  {
   "cell_type": "code",
   "execution_count": 150,
   "metadata": {},
   "outputs": [
    {
     "name": "stdout",
     "output_type": "stream",
     "text": [
      "Couples de même sexe Femmes                          0.9\n",
      "Couples de sexe différent Femmes                    57.1\n",
      "Couples de même sexe ayant le bac Femmes            78.0\n",
      "Couples de sexe différent  ayant le bac Femmes      75.0\n",
      "Couples de même sexe ayant un bac +3 Femme          41.0\n",
      "Couples de sexe différent  ayant un bac +3 Femme    36.0\n",
      "Couples de même sexe Femme ayant un enfant          31.0\n",
      "Name: 2, dtype: float64\n"
     ]
    }
   ],
   "source": [
    "def get_data_couple_age(age, gender, df):\n",
    "    # Adjust the filter to account for both singular and plural forms of \"Homme/Hommes\"\n",
    "    gender_str = 'Homme' if gender.lower() == 'homme' else 'Femme'\n",
    "    \n",
    "    # Find the age interval\n",
    "    interval = find_age_interval(age, df)\n",
    "    if interval == \"Âge non trouvé dans les intervalles\":\n",
    "        return interval\n",
    "    \n",
    "    # Select the row corresponding to the age interval\n",
    "    row = df[df['Age Range'] == interval]\n",
    "    \n",
    "    # Filter the columns based on gender, allowing for both 'Homme' and 'Hommes'\n",
    "    gender_columns = [col for col in df.columns if gender_str in col]\n",
    "    \n",
    "    # Select only the columns that match the gender\n",
    "    gender_data = row[gender_columns].iloc[0]  # Use iloc[0] to select the first (and only) row as a Series\n",
    "    \n",
    "    return gender_data  # Convert to dictionary for easier readability\n",
    "data_for_gender = get_data_couple_age(personne[0].age,  personne[0].sexe, datacouple)"
   ]
  },
  {
   "cell_type": "code",
   "execution_count": 200,
   "metadata": {},
   "outputs": [
    {
     "name": "stdout",
     "output_type": "stream",
     "text": [
      "{'couple_meme_sexe': False, 'education_bac_plus_3': True, 'education_bac': True, 'enfant': False}\n"
     ]
    }
   ],
   "source": [
    "\n",
    "\n",
    "result = education_famille(data_for_gender)\n",
    "print(result)"
   ]
  },
  {
   "cell_type": "code",
   "execution_count": 38,
   "metadata": {},
   "outputs": [
    {
     "name": "stdout",
     "output_type": "stream",
     "text": [
      "Erreur de requête : 404\n",
      "8.78860497080393\n",
      "46.04121374788197\n"
     ]
    }
   ],
   "source": [
    "print(personne[0].IRIScode)\n",
    "print(personne[0].long)\n",
    "print(personne[0].lat)  "
   ]
  },
  {
   "cell_type": "code",
   "execution_count": 2,
   "metadata": {},
   "outputs": [],
   "source": [
    "def estimer_poids(taille_cm, imc_cible=22):\n",
    "    \"\"\"\n",
    "    Estime le poids en kilogrammes basé sur la taille en centimètres et un IMC cible.\n",
    "\n",
    "    :param taille_cm: Taille en centimètres\n",
    "    :param imc_cible: Indice de masse corporelle cible (par défaut 22)\n",
    "    :return: Poids estimé en kilogrammes\n",
    "    \"\"\"\n",
    "    taille_m = taille_cm / 100  # Convertir la taille en mètres\n",
    "    poids_estime = imc_cible * (taille_m ** 2)\n",
    "    return poids_estime"
   ]
  }
 ],
 "metadata": {
  "kernelspec": {
   "display_name": "Python 3",
   "language": "python",
   "name": "python3"
  },
  "language_info": {
   "codemirror_mode": {
    "name": "ipython",
    "version": 3
   },
   "file_extension": ".py",
   "mimetype": "text/x-python",
   "name": "python",
   "nbconvert_exporter": "python",
   "pygments_lexer": "ipython3",
   "version": "3.11.1"
  }
 },
 "nbformat": 4,
 "nbformat_minor": 2
}
