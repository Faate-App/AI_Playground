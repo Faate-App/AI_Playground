{
 "cells": [
  {
   "cell_type": "code",
   "execution_count": 1,
   "metadata": {},
   "outputs": [
    {
     "name": "stderr",
     "output_type": "stream",
     "text": [
      "c:\\Python311\\Lib\\site-packages\\numpy\\_distributor_init.py:30: UserWarning: loaded more than 1 DLL from .libs:\n",
      "c:\\Python311\\Lib\\site-packages\\numpy\\.libs\\libopenblas.FB5AE2TYXYH2IJRDKGDGQ3XBKLKTF43H.gfortran-win_amd64.dll\n",
      "c:\\Python311\\Lib\\site-packages\\numpy\\.libs\\libopenblas64__v0.3.21-gcc_10_3_0.dll\n",
      "  warnings.warn(\"loaded more than 1 DLL from .libs:\"\n",
      "No model was supplied, defaulted to distilbert-base-uncased-finetuned-sst-2-english and revision af0f99b (https://huggingface.co/distilbert-base-uncased-finetuned-sst-2-english).\n",
      "Using a pipeline without specifying a model name and revision in production is not recommended.\n",
      "Xformers is not installed correctly. If you want to use memory_efficient_attention to accelerate training use the following command to install Xformers\n",
      "pip install xformers.\n"
     ]
    },
    {
     "name": "stdout",
     "output_type": "stream",
     "text": [
      "Analyse de Sentiment (TextBlob): {'polarity': 0.024553571428571425, 'subjectivity': 0.3839285714285714}\n",
      "Analyse de Sentiment (Transformers): [{'label': 'NEGATIVE', 'score': 0.9761216640472412}]\n",
      "Analyse de Domaine: {'sequence': \"🌟 Aventurier dans l'âme, amateur de café et de conversations profondes. Passionné par tout ce qui touche à l'art et à la culture, je passe mes week-ends à explorer de nouveaux endroits, que ce soit un petit café caché en ville ou un sentier de randonnée inexploré. J'adore l'idée de faire des rencontres spontanées et authentiques.\\n\\n✨ Amateur de cuisine, je me défends plutôt bien derrière les fourneaux. Mon défi du moment ? Réussir le parfait soufflé au fromage. Acceptes-tu de relever le défi avec moi ?\\n\\n🎸 Musique : de Bowie à Billie Eilish, ma playlist est aussi variée que mes intérêts. Tu joues d'un instrument ? C'est un gros plus !\\n\\n🐕 Ami des animaux, j'ai un golden retriever nommé Max qui est un expert en câlins.\\n\\n🔍 À la recherche de quelqu'un avec qui partager des rires, des aventures et peut-être des soufflés ratés. Si tu aimes l'art, la nature, ou que tu as simplement une bonne histoire à raconter, on pourrait bien s'entendre ! Swipe right et voyons où cela nous mène…\", 'labels': ['art et culture', 'mode et beauté', 'histoire', 'loisirs', 'environnement', 'voyage et tourisme', 'actualités et médias', 'société', 'éducation', 'santé', 'économie', 'psychologie', 'politique', 'sport', 'droit et législation', 'littérature et écriture', 'religion et spiritualité', 'technologie', 'science', 'entreprise et management'], 'scores': [0.4122360944747925, 0.18428969383239746, 0.09203352779150009, 0.04721471294760704, 0.04504000023007393, 0.04466746002435684, 0.03466232120990753, 0.023548511788249016, 0.01749795861542225, 0.016923461109399796, 0.016575640067458153, 0.011793617159128189, 0.009484452195465565, 0.009123238734900951, 0.008988136425614357, 0.00728429714217782, 0.005330840591341257, 0.004998775199055672, 0.004261428955942392, 0.004045877605676651]}\n"
     ]
    }
   ],
   "source": [
    "from textblob import TextBlob\n",
    "from transformers import pipeline\n",
    "\n",
    "# Analyse de sentiment simple avec TextBlob\n",
    "def analyze_sentiment_textblob(text):\n",
    "    blob = TextBlob(text)\n",
    "    sentiment = blob.sentiment\n",
    "    return {\n",
    "        \"polarity\": sentiment.polarity,\n",
    "        \"subjectivity\": sentiment.subjectivity\n",
    "    }\n",
    "\n",
    "# Analyse de sentiment avancée avec Hugging Face Transformers\n",
    "def analyze_sentiment_transformers(text):\n",
    "    classifier = pipeline('sentiment-analysis')\n",
    "    return classifier(text)\n",
    "\n",
    "# Analyse de thèmes/domaines avec Hugging Face Transformers\n",
    "def analyze_domain(text):\n",
    "    # Utiliser un modèle spécifique pour la classification de thème\n",
    "    classifier = pipeline('zero-shot-classification', model='facebook/bart-large-mnli')\n",
    "\n",
    "    # Définissez une liste étendue des thèmes/domaines potentiels\n",
    "    candidate_labels = [\n",
    "        \"santé\", \"économie\", \"sport\", \"technologie\", \"politique\", \"éducation\", \"environnement\",\n",
    "        \"art et culture\", \"science\", \"société\", \"histoire\", \"loisirs\", \"psychologie\",\n",
    "        \"droit et législation\", \"mode et beauté\", \"religion et spiritualité\", \"actualités et médias\",\n",
    "        \"littérature et écriture\", \"entreprise et management\", \"voyage et tourisme\"\n",
    "    ]\n",
    "\n",
    "    # Appliquer le modèle de classification\n",
    "    return classifier(text, candidate_labels)\n",
    "\n",
    "# Exemple de texte\n",
    "text = \"\"\"🌟 Aventurier dans l'âme, amateur de café et de conversations profondes. Passionné par tout ce qui touche à l'art et à la culture, je passe mes week-ends à explorer de nouveaux endroits, que ce soit un petit café caché en ville ou un sentier de randonnée inexploré. J'adore l'idée de faire des rencontres spontanées et authentiques.\n",
    "\n",
    "✨ Amateur de cuisine, je me défends plutôt bien derrière les fourneaux. Mon défi du moment ? Réussir le parfait soufflé au fromage. Acceptes-tu de relever le défi avec moi ?\n",
    "\n",
    "🎸 Musique : de Bowie à Billie Eilish, ma playlist est aussi variée que mes intérêts. Tu joues d'un instrument ? C'est un gros plus !\n",
    "\n",
    "🐕 Ami des animaux, j'ai un golden retriever nommé Max qui est un expert en câlins.\n",
    "\n",
    "🔍 À la recherche de quelqu'un avec qui partager des rires, des aventures et peut-être des soufflés ratés. Si tu aimes l'art, la nature, ou que tu as simplement une bonne histoire à raconter, on pourrait bien s'entendre ! Swipe right et voyons où cela nous mène…\"\"\"\n",
    "\n",
    "\n",
    "\n",
    "# Analyse de sentiment\n",
    "sentiment_textblob = analyze_sentiment_textblob(text)\n",
    "sentiment_transformers = analyze_sentiment_transformers(text)\n",
    "\n",
    "# Analyse de domaine\n",
    "domain_analysis = analyze_domain(text)\n",
    "\n",
    "# Affichage des résultats\n",
    "print(\"Analyse de Sentiment (TextBlob):\", sentiment_textblob)\n",
    "print(\"Analyse de Sentiment (Transformers):\", sentiment_transformers)\n",
    "print(\"Analyse de Domaine:\", domain_analysis)\n"
   ]
  },
  {
   "cell_type": "code",
   "execution_count": 2,
   "metadata": {},
   "outputs": [
    {
     "name": "stderr",
     "output_type": "stream",
     "text": [
      "No model was supplied, defaulted to distilbert-base-uncased-finetuned-sst-2-english and revision af0f99b (https://huggingface.co/distilbert-base-uncased-finetuned-sst-2-english).\n",
      "Using a pipeline without specifying a model name and revision in production is not recommended.\n"
     ]
    },
    {
     "name": "stdout",
     "output_type": "stream",
     "text": [
      "Analyse de Sentiment (TextBlob): {'polarity': 0.024553571428571425, 'subjectivity': 0.3839285714285714}\n",
      "Analyse de Sentiment (Transformers): [{'label': 'NEGATIVE', 'score': 0.9761216640472412}]\n",
      "Analyse de Domaine: {'sequence': \"🌟 Aventurier dans l'âme, amateur de café et de conversations profondes. Passionné par tout ce qui touche à l'art et à la culture, je passe mes week-ends à explorer de nouveaux endroits, que ce soit un petit café caché en ville ou un sentier de randonnée inexploré. J'adore l'idée de faire des rencontres spontanées et authentiques.\\n\\n✨ Amateur de cuisine, je me défends plutôt bien derrière les fourneaux. Mon défi du moment ? Réussir le parfait soufflé au fromage. Acceptes-tu de relever le défi avec moi ?\\n\\n🎸 Musique : de Bowie à Billie Eilish, ma playlist est aussi variée que mes intérêts. Tu joues d'un instrument ? C'est un gros plus !\\n\\n🐕 Ami des animaux, j'ai un golden retriever nommé Max qui est un expert en câlins.\\n\\n🔍 À la recherche de quelqu'un avec qui partager des rires, des aventures et peut-être des soufflés ratés. Si tu aimes l'art, la nature, ou que tu as simplement une bonne histoire à raconter, on pourrait bien s'entendre ! Swipe right et voyons où cela nous mène…\", 'labels': ['art et culture', 'mode et beauté', 'histoire', 'loisirs', 'environnement', 'voyage et tourisme', 'actualités et médias', 'société', 'éducation', 'santé', 'économie', 'psychologie', 'politique', 'sport', 'droit et législation', 'littérature et écriture', 'religion et spiritualité', 'technologie', 'science', 'entreprise et management'], 'scores': [0.4122360944747925, 0.18428969383239746, 0.09203352779150009, 0.04721471294760704, 0.04504000023007393, 0.04466746002435684, 0.03466232120990753, 0.023548511788249016, 0.01749795861542225, 0.016923461109399796, 0.016575640067458153, 0.011793617159128189, 0.009484452195465565, 0.009123238734900951, 0.008988136425614357, 0.00728429714217782, 0.005330840591341257, 0.004998775199055672, 0.004261428955942392, 0.004045877605676651]}\n"
     ]
    }
   ],
   "source": [
    "# Exemple de texte\n",
    "text = \"\"\"🌟 Aventurier dans l'âme, amateur de café et de conversations profondes. Passionné par tout ce qui touche à l'art et à la culture, je passe mes week-ends à explorer de nouveaux endroits, que ce soit un petit café caché en ville ou un sentier de randonnée inexploré. J'adore l'idée de faire des rencontres spontanées et authentiques.\n",
    "\n",
    "✨ Amateur de cuisine, je me défends plutôt bien derrière les fourneaux. Mon défi du moment ? Réussir le parfait soufflé au fromage. Acceptes-tu de relever le défi avec moi ?\n",
    "\n",
    "🎸 Musique : de Bowie à Billie Eilish, ma playlist est aussi variée que mes intérêts. Tu joues d'un instrument ? C'est un gros plus !\n",
    "\n",
    "🐕 Ami des animaux, j'ai un golden retriever nommé Max qui est un expert en câlins.\n",
    "\n",
    "🔍 À la recherche de quelqu'un avec qui partager des rires, des aventures et peut-être des soufflés ratés. Si tu aimes l'art, la nature, ou que tu as simplement une bonne histoire à raconter, on pourrait bien s'entendre ! Swipe right et voyons où cela nous mène…\"\"\"\n",
    "\n",
    "\n",
    "\n",
    "# Analyse de sentiment\n",
    "sentiment_textblob = analyze_sentiment_textblob(text)\n",
    "sentiment_transformers = analyze_sentiment_transformers(text)\n",
    "\n",
    "# Analyse de domaine\n",
    "domain_analysis = analyze_domain(text)\n",
    "\n",
    "# Affichage des résultats\n",
    "print(\"Analyse de Sentiment (TextBlob):\", sentiment_textblob)\n",
    "print(\"Analyse de Sentiment (Transformers):\", sentiment_transformers)\n",
    "print(\"Analyse de Domaine:\", domain_analysis)"
   ]
  },
  {
   "cell_type": "code",
   "execution_count": 8,
   "metadata": {},
   "outputs": [
    {
     "name": "stdout",
     "output_type": "stream",
     "text": [
      "['art et culture', 'mode et beauté', 'histoire']\n",
      "0.024553571428571425\n",
      "0.3839285714285714\n",
      "NEGATIVE\n"
     ]
    }
   ],
   "source": [
    "domaine_analysis_bio = domain_analysis['labels'][:3]\n",
    "label_bio = sentiment_transformers[0]['label']\n",
    "polarity_bio = sentiment_textblob['polarity']\n",
    "subjectivity_bio = sentiment_textblob['subjectivity']\n",
    "print(domaine_analyis_bio)\n",
    "print(polarity_bios)\n",
    "print(subjectivity_bio)\n",
    "print(label_bio)"
   ]
  },
  {
   "cell_type": "code",
   "execution_count": null,
   "metadata": {},
   "outputs": [],
   "source": []
  }
 ],
 "metadata": {
  "kernelspec": {
   "display_name": "Python 3",
   "language": "python",
   "name": "python3"
  },
  "language_info": {
   "codemirror_mode": {
    "name": "ipython",
    "version": 3
   },
   "file_extension": ".py",
   "mimetype": "text/x-python",
   "name": "python",
   "nbconvert_exporter": "python",
   "pygments_lexer": "ipython3",
   "version": "3.11.1"
  }
 },
 "nbformat": 4,
 "nbformat_minor": 2
}
