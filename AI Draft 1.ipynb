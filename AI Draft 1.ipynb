{
 "cells": [
  {
   "cell_type": "code",
   "execution_count": 10,
   "metadata": {
    "collapsed": true
   },
   "outputs": [],
   "source": [
    "import pandas as pd\n",
    "import numpy as np\n",
    "import matplotlib.pyplot as plt"
   ]
  },
  {
   "cell_type": "code",
   "execution_count": 11,
   "outputs": [],
   "source": [
    "df = pd.read_stata(\"stanford data set/HCMST 2017 fresh sample for public sharing draft v1.1.dta\")"
   ],
   "metadata": {
    "collapsed": false
   }
  },
  {
   "cell_type": "code",
   "execution_count": 12,
   "outputs": [
    {
     "data": {
      "text/plain": "   CaseID  CASEID_NEW      qflag  weight1  weight1_freqwt  weight2  weight1a  \\\n0       2     2014039  Qualified      NaN             NaN   0.8945       NaN   \n1       3     2019003  Qualified   0.9078         71115.0      NaN    0.9026   \n2       5     2145527  Qualified   0.7205         56442.0      NaN    0.7164   \n3       6     2648857  Qualified   1.2597         98682.0   1.3507    1.2524   \n4       7     2623465  Qualified   0.8686         68044.0      NaN    0.8636   \n\n   weight1a_freqwt  weight_combo  weight_combo_freqwt  ...  \\\n0              NaN      0.277188              19240.0  ...   \n1          70707.0      1.020621              70841.0  ...   \n2          56121.0      0.810074              56227.0  ...   \n3          98110.0      0.418556              29052.0  ...   \n4          67652.0      0.976522              67781.0  ...   \n\n   hcm2017q24_met_through_family hcm2017q24_met_through_friend  \\\n0                             no                            no   \n1                             no                            no   \n2                             no                            no   \n3                             no                            no   \n4                             no                            no   \n\n  hcm2017q24_met_through_as_nghbrs hcm2017q24_met_as_through_cowork  \\\n0                               no                               no   \n1                               no                              yes   \n2                               no                               no   \n3                               no                               no   \n4                              yes                               no   \n\n  w6_subject_race interracial_5cat partner_mother_yrsed subject_mother_yrsed  \\\n0           White               no                 12.0                 14.0   \n1           White               no                 12.0                 16.0   \n2           White               no                  9.0                  7.5   \n3           White               no                 16.0                 12.0   \n4           White               no                 14.0                 17.0   \n\n  partner_yrsed subject_yrsed  \n0          12.0          14.0  \n1          17.0          17.0  \n2          14.0          17.0  \n3          12.0          12.0  \n4          16.0          16.0  \n\n[5 rows x 285 columns]",
      "text/html": "<div>\n<style scoped>\n    .dataframe tbody tr th:only-of-type {\n        vertical-align: middle;\n    }\n\n    .dataframe tbody tr th {\n        vertical-align: top;\n    }\n\n    .dataframe thead th {\n        text-align: right;\n    }\n</style>\n<table border=\"1\" class=\"dataframe\">\n  <thead>\n    <tr style=\"text-align: right;\">\n      <th></th>\n      <th>CaseID</th>\n      <th>CASEID_NEW</th>\n      <th>qflag</th>\n      <th>weight1</th>\n      <th>weight1_freqwt</th>\n      <th>weight2</th>\n      <th>weight1a</th>\n      <th>weight1a_freqwt</th>\n      <th>weight_combo</th>\n      <th>weight_combo_freqwt</th>\n      <th>...</th>\n      <th>hcm2017q24_met_through_family</th>\n      <th>hcm2017q24_met_through_friend</th>\n      <th>hcm2017q24_met_through_as_nghbrs</th>\n      <th>hcm2017q24_met_as_through_cowork</th>\n      <th>w6_subject_race</th>\n      <th>interracial_5cat</th>\n      <th>partner_mother_yrsed</th>\n      <th>subject_mother_yrsed</th>\n      <th>partner_yrsed</th>\n      <th>subject_yrsed</th>\n    </tr>\n  </thead>\n  <tbody>\n    <tr>\n      <th>0</th>\n      <td>2</td>\n      <td>2014039</td>\n      <td>Qualified</td>\n      <td>NaN</td>\n      <td>NaN</td>\n      <td>0.8945</td>\n      <td>NaN</td>\n      <td>NaN</td>\n      <td>0.277188</td>\n      <td>19240.0</td>\n      <td>...</td>\n      <td>no</td>\n      <td>no</td>\n      <td>no</td>\n      <td>no</td>\n      <td>White</td>\n      <td>no</td>\n      <td>12.0</td>\n      <td>14.0</td>\n      <td>12.0</td>\n      <td>14.0</td>\n    </tr>\n    <tr>\n      <th>1</th>\n      <td>3</td>\n      <td>2019003</td>\n      <td>Qualified</td>\n      <td>0.9078</td>\n      <td>71115.0</td>\n      <td>NaN</td>\n      <td>0.9026</td>\n      <td>70707.0</td>\n      <td>1.020621</td>\n      <td>70841.0</td>\n      <td>...</td>\n      <td>no</td>\n      <td>no</td>\n      <td>no</td>\n      <td>yes</td>\n      <td>White</td>\n      <td>no</td>\n      <td>12.0</td>\n      <td>16.0</td>\n      <td>17.0</td>\n      <td>17.0</td>\n    </tr>\n    <tr>\n      <th>2</th>\n      <td>5</td>\n      <td>2145527</td>\n      <td>Qualified</td>\n      <td>0.7205</td>\n      <td>56442.0</td>\n      <td>NaN</td>\n      <td>0.7164</td>\n      <td>56121.0</td>\n      <td>0.810074</td>\n      <td>56227.0</td>\n      <td>...</td>\n      <td>no</td>\n      <td>no</td>\n      <td>no</td>\n      <td>no</td>\n      <td>White</td>\n      <td>no</td>\n      <td>9.0</td>\n      <td>7.5</td>\n      <td>14.0</td>\n      <td>17.0</td>\n    </tr>\n    <tr>\n      <th>3</th>\n      <td>6</td>\n      <td>2648857</td>\n      <td>Qualified</td>\n      <td>1.2597</td>\n      <td>98682.0</td>\n      <td>1.3507</td>\n      <td>1.2524</td>\n      <td>98110.0</td>\n      <td>0.418556</td>\n      <td>29052.0</td>\n      <td>...</td>\n      <td>no</td>\n      <td>no</td>\n      <td>no</td>\n      <td>no</td>\n      <td>White</td>\n      <td>no</td>\n      <td>16.0</td>\n      <td>12.0</td>\n      <td>12.0</td>\n      <td>12.0</td>\n    </tr>\n    <tr>\n      <th>4</th>\n      <td>7</td>\n      <td>2623465</td>\n      <td>Qualified</td>\n      <td>0.8686</td>\n      <td>68044.0</td>\n      <td>NaN</td>\n      <td>0.8636</td>\n      <td>67652.0</td>\n      <td>0.976522</td>\n      <td>67781.0</td>\n      <td>...</td>\n      <td>no</td>\n      <td>no</td>\n      <td>yes</td>\n      <td>no</td>\n      <td>White</td>\n      <td>no</td>\n      <td>14.0</td>\n      <td>17.0</td>\n      <td>16.0</td>\n      <td>16.0</td>\n    </tr>\n  </tbody>\n</table>\n<p>5 rows × 285 columns</p>\n</div>"
     },
     "execution_count": 12,
     "metadata": {},
     "output_type": "execute_result"
    }
   ],
   "source": [
    "df.head()"
   ],
   "metadata": {
    "collapsed": false
   }
  },
  {
   "cell_type": "code",
   "execution_count": 13,
   "outputs": [],
   "source": [
    "# Select features\n",
    "df2 = df[[\"CASEID_NEW\",\"ppage\", \"ppeduc\", \"ppethm\", \"ppgender\", \"ppwork\"]]"
   ],
   "metadata": {
    "collapsed": false
   }
  },
  {
   "cell_type": "code",
   "execution_count": 14,
   "outputs": [
    {
     "data": {
      "text/plain": "   CASEID_NEW ppage                 ppeduc               ppethm ppgender  \\\n0     2014039    30       Associate degree  White, Non-Hispanic     Male   \n1     2019003    55         Masters degree  White, Non-Hispanic   Female   \n2     2145527    47         Masters degree  White, Non-Hispanic     Male   \n3     2648857    28  12th grade NO DIPLOMA  White, Non-Hispanic   Female   \n4     2623465    59       Bachelors degree  White, Non-Hispanic   Female   \n\n                         ppwork  \n0  Working - as a paid employee  \n1           Not working - other  \n2  Working - as a paid employee  \n3           Not working - other  \n4  Working - as a paid employee  ",
      "text/html": "<div>\n<style scoped>\n    .dataframe tbody tr th:only-of-type {\n        vertical-align: middle;\n    }\n\n    .dataframe tbody tr th {\n        vertical-align: top;\n    }\n\n    .dataframe thead th {\n        text-align: right;\n    }\n</style>\n<table border=\"1\" class=\"dataframe\">\n  <thead>\n    <tr style=\"text-align: right;\">\n      <th></th>\n      <th>CASEID_NEW</th>\n      <th>ppage</th>\n      <th>ppeduc</th>\n      <th>ppethm</th>\n      <th>ppgender</th>\n      <th>ppwork</th>\n    </tr>\n  </thead>\n  <tbody>\n    <tr>\n      <th>0</th>\n      <td>2014039</td>\n      <td>30</td>\n      <td>Associate degree</td>\n      <td>White, Non-Hispanic</td>\n      <td>Male</td>\n      <td>Working - as a paid employee</td>\n    </tr>\n    <tr>\n      <th>1</th>\n      <td>2019003</td>\n      <td>55</td>\n      <td>Masters degree</td>\n      <td>White, Non-Hispanic</td>\n      <td>Female</td>\n      <td>Not working - other</td>\n    </tr>\n    <tr>\n      <th>2</th>\n      <td>2145527</td>\n      <td>47</td>\n      <td>Masters degree</td>\n      <td>White, Non-Hispanic</td>\n      <td>Male</td>\n      <td>Working - as a paid employee</td>\n    </tr>\n    <tr>\n      <th>3</th>\n      <td>2648857</td>\n      <td>28</td>\n      <td>12th grade NO DIPLOMA</td>\n      <td>White, Non-Hispanic</td>\n      <td>Female</td>\n      <td>Not working - other</td>\n    </tr>\n    <tr>\n      <th>4</th>\n      <td>2623465</td>\n      <td>59</td>\n      <td>Bachelors degree</td>\n      <td>White, Non-Hispanic</td>\n      <td>Female</td>\n      <td>Working - as a paid employee</td>\n    </tr>\n  </tbody>\n</table>\n</div>"
     },
     "execution_count": 14,
     "metadata": {},
     "output_type": "execute_result"
    }
   ],
   "source": [
    "df2.head()"
   ],
   "metadata": {
    "collapsed": false
   }
  }
 ],
 "metadata": {
  "kernelspec": {
   "display_name": "Python 3",
   "language": "python",
   "name": "python3"
  },
  "language_info": {
   "codemirror_mode": {
    "name": "ipython",
    "version": 2
   },
   "file_extension": ".py",
   "mimetype": "text/x-python",
   "name": "python",
   "nbconvert_exporter": "python",
   "pygments_lexer": "ipython2",
   "version": "2.7.6"
  }
 },
 "nbformat": 4,
 "nbformat_minor": 0
}
