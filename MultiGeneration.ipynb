{
 "cells": [
  {
   "cell_type": "code",
   "outputs": [],
   "source": [
    "from joblib import Parallel, delayed\n",
    "from tqdm.auto import tqdm\n",
    "import pandas as pd\n",
    "from faker import Faker\n",
    "import numpy as np\n",
    "import random\n",
    "from textblob import TextBlob\n",
    "import requests\n",
    "import re"
   ],
   "metadata": {
    "collapsed": false,
    "ExecuteTime": {
     "end_time": "2024-02-03T16:28:09.173621Z",
     "start_time": "2024-02-03T16:28:09.166445Z"
    }
   },
   "id": "17a354913d1a0d60",
   "execution_count": 44
  },
  {
   "cell_type": "markdown",
   "source": [
    "## Define Helper Functions\n",
    "This section includes functions to simulate the generation of person attributes such as age, weight, geographic code, sentiment analysis, and more.\n"
   ],
   "metadata": {
    "collapsed": false
   },
   "id": "21141a57722608d2"
  },
  {
   "cell_type": "code",
   "outputs": [],
   "source": [
    "def find_random_age_by_gender(sexe):\n",
    "    age_data = {\n",
    "        \"25-29 ans\": {\"Femme\": 1897867, \"Homme\": 1887312},\n",
    "    }\n",
    "    age_group = random.choice(list(age_data.keys()))\n",
    "    return random.randint(25, 29), age_group\n",
    "\n",
    "def estimer_poids(taille_cm, imc_cible=22):\n",
    "    taille_m = taille_cm / 100\n",
    "    return imc_cible * (taille_m ** 2)\n",
    "\n",
    "def get_iris_code_from_coordinates(latitude, longitude):\n",
    "    return \"IRIS_code_example\"\n",
    "\n",
    "def analyze_sentiment_textblob(text):\n",
    "    blob = TextBlob(text)\n",
    "    return {\"polarity\": blob.sentiment.polarity, \"subjectivity\": blob.sentiment.subjectivity}\n",
    "\n",
    "def statcouple(iris_code, basecouple):\n",
    "    return {\"unionlibre\": 0.1, \"pacsée\": 0.2, \"marier\": 0.3, \"veuf\": 0.1, \"divorce\": 0.2, \"celib\": 0.1, \"inconnu\": 0}\n",
    "\n",
    "def random_status(proba_statuts):\n",
    "    statuts = list(proba_statuts.keys())\n",
    "    probabilities = list(proba_statuts.values())\n",
    "    return np.random.choice(statuts, p=probabilities)\n",
    "\n",
    "def age_to_interval(age_str):\n",
    "    try:\n",
    "        # Utiliser des expressions régulières pour extraire les nombres\n",
    "        numbers = re.findall(r'\\d+', age_str)\n",
    "        if age_str == \"Ensemble\" or \"en millions\" in age_str:\n",
    "            return None\n",
    "        if \"plus\" in age_str:\n",
    "            # Gérer les cas comme \"65 ans ou plus\"\n",
    "            return (int(numbers[0]), float(150))\n",
    "        elif len(numbers) >= 2:\n",
    "            # Gérer les cas avec deux nombres, comme \"15 à 19 ans\"\n",
    "            return (int(numbers[0]), int(numbers[1]))\n",
    "        else:\n",
    "            raise ValueError(\"Format d'âge non reconnu\")\n",
    "    except ValueError as e:\n",
    "        print(f\"Erreur avec l'entrée : '{age_str}' - {e}\")\n",
    "        raise\n",
    "\n",
    "def find_age_interval(age, df):\n",
    "    for interval in df['Age Range']:\n",
    "        if interval != None and interval[0] <= age and age <= interval[1]:\n",
    "            return interval\n",
    "    return \"Âge non trouvé dans les intervalles\"\n",
    "\n",
    "def get_proportion(age, gender, df):\n",
    "    # Trouver l'intervalle d'âge\n",
    "    interval = find_age_interval(age, df)\n",
    "    if interval == \"Âge non trouvé dans les intervalles\":\n",
    "        return interval\n",
    "    \n",
    "    # Sélectionner la ligne correspondante à l'intervalle d'âge\n",
    "    row = df[df['Age Range'] == interval]\n",
    "    \n",
    "    # Sélectionner la colonne en fonction du sexe\n",
    "    if gender.lower() == 'femme':\n",
    "        proportion = row['Femmes'].values[0]\n",
    "    elif gender.lower() == 'homme':\n",
    "        proportion = row['Hommes'].values[0]\n",
    "    else:\n",
    "        return \"Sexe non reconnu\"\n",
    "    \n",
    "    # Construire la phrase récapitulative\n",
    "    return proportion"
   ],
   "metadata": {
    "collapsed": false,
    "ExecuteTime": {
     "end_time": "2024-02-03T16:28:09.186030Z",
     "start_time": "2024-02-03T16:28:09.179742Z"
    }
   },
   "id": "34614c593dce6218",
   "execution_count": 45
  },
  {
   "cell_type": "markdown",
   "source": [
    "## Define the Main Function for Person Creation\n",
    "This function utilizes the Faker library to generate fake personal information and incorporates previously defined helper functions to simulate complex attributes."
   ],
   "metadata": {
    "collapsed": false
   },
   "id": "85f627c8e545f7b6"
  },
  {
   "cell_type": "code",
   "outputs": [],
   "source": [
    "def create_person(id, basecouple, datacouple, personnevivantseul):\n",
    "    fake = Faker('fr_FR')\n",
    "    fake.seed_instance(id)\n",
    "    \n",
    "    sexe = random.choice([\"Homme\", \"Femme\"])\n",
    "    taille = np.random.normal(175, 7) if sexe == \"Homme\" else np.random.normal(162, 7)\n",
    "    age, age_group = find_random_age_by_gender(sexe)\n",
    "    \n",
    "    bio = \"This is a sample biography.\"\n",
    "    # Emotion probabilities\n",
    "    emotions = {\n",
    "        'angry': 0.10,   # 10% chance\n",
    "        'disgust': 0.05,  # 5% chance\n",
    "        'fear': 0.10,    # 10% chance\n",
    "        'happy': 0.40,   # 40% chance\n",
    "        'sad': 0.20,     # 20% chance\n",
    "        'surprise': 0.10, # 10% chance\n",
    "        'neutral': 0.05   # 5% chance\n",
    "    }\n",
    "    emotion = random.choices(list(emotions.keys()), weights=emotions.values(), k=1)[0]\n",
    "\n",
    "    # Race probabilities\n",
    "    races = ['asian', 'indian', 'black', 'white', 'middle eastern', 'latino hispanic']\n",
    "    weights = [0.05, 0.02, 0.03, 0.85, 0.03, 0.02]  # Example values\n",
    "    race = random.choices(races, weights=weights, k=1)[0]\n",
    "\n",
    "    # Education and family status (simplified logic)\n",
    "    pourcentage_seul = get_proportion(age, sexe, personnevivantseul)   \n",
    "    seul = random.random() < ((pourcentage_seul+20) / 100)\n",
    "    couple_meme_sexe = random.choice([True, False])\n",
    "    enfant = random.choice([True, False])\n",
    "    education_bac = random.choice([True, False])\n",
    "    education_bac_plus_3 = education_bac and random.choice([True, False])\n",
    "\n",
    "    latitude, longitude = 0, 0\n",
    "    iris_code = get_iris_code_from_coordinates(latitude, longitude)\n",
    "    sentiment = analyze_sentiment_textblob(bio)\n",
    "    proba_statuts = statcouple(iris_code, basecouple)\n",
    "    statut_relationnel = random_status(proba_statuts)\n",
    "    pourcentage_seul = get_proportion(age, sexe, personnevivantseul)\n",
    "    seul = random.random() < pourcentage_seul / 100\n",
    "    \n",
    "    person_data = {\n",
    "        'id': id,\n",
    "        'nom': fake.last_name(),\n",
    "        'prenom': fake.first_name(),\n",
    "        'age': age,\n",
    "        'sexe': sexe,\n",
    "        'taille': taille,\n",
    "        'poids': estimer_poids(taille),\n",
    "        'bio': bio,\n",
    "        'emotion': emotion,\n",
    "        'race': race,\n",
    "        'seul': seul,\n",
    "        'couple_meme_sexe': couple_meme_sexe,\n",
    "        'enfant': enfant,\n",
    "        'education_bac': education_bac,\n",
    "        'education_bac_plus_3': education_bac_plus_3,\n",
    "        'latitude': latitude,\n",
    "        'longitude': longitude,\n",
    "        'IRIS code': iris_code,\n",
    "        'sentiment': sentiment,\n",
    "        'statut relationnel': statut_relationnel,\n",
    "        'vivre seul': seul,\n",
    "    }\n",
    "    return person_data"
   ],
   "metadata": {
    "collapsed": false,
    "ExecuteTime": {
     "end_time": "2024-02-03T16:28:09.186979Z",
     "start_time": "2024-02-03T16:28:09.184542Z"
    }
   },
   "id": "45eaef9f873fd060",
   "execution_count": 46
  },
  {
   "cell_type": "markdown",
   "source": [
    "## Generate Person Data\n",
    "This section describes the use of parallel processing to efficiently generate data for a large number of individuals."
   ],
   "metadata": {
    "collapsed": false
   },
   "id": "b09ea9be506b875e"
  },
  {
   "cell_type": "code",
   "outputs": [],
   "source": [
    "basecouple = pd.read_excel(\"data//base-ic-couples-familles-menages-2020.xlsx\", sheet_name=\"IRIS\")\n",
    "basecouple = basecouple.drop(index=0)"
   ],
   "metadata": {
    "collapsed": false
   },
   "id": "d7d0becbec8d458c"
  },
  {
   "cell_type": "code",
   "outputs": [],
   "source": [
    "datacouple = pd.read_excel(\"data//ip1774.xls\", sheet_name=\"Figure 1\")\n",
    "datacouple = datacouple.dropna()"
   ],
   "metadata": {
    "collapsed": false
   },
   "id": "aff406dea33e7e83"
  },
  {
   "cell_type": "code",
   "outputs": [],
   "source": [
    "personnevivantseul = pd.read_excel(\"data//demo-couple-pers-seul-log-age.xlsx\")\n",
    "if not isinstance(personnevivantseul['Age'].iloc[0], pd.Interval):\n",
    "    personnevivantseul['Age Range'] = personnevivantseul['Age'].apply(age_to_interval)\n",
    "\n",
    "if not isinstance(datacouple['Age'].iloc[0], pd.Interval):\n",
    "    datacouple['Age Range'] = datacouple['Age'].apply(age_to_interval)"
   ],
   "metadata": {
    "collapsed": false
   },
   "id": "fcc54411cd47906b"
  },
  {
   "cell_type": "code",
   "outputs": [
    {
     "data": {
      "text/plain": "Generating persons:   0%|          | 0/100 [00:00<?, ?it/s]",
      "application/vnd.jupyter.widget-view+json": {
       "version_major": 2,
       "version_minor": 0,
       "model_id": "3dcaa771d16e46adbf36b1bbd6953553"
      }
     },
     "metadata": {},
     "output_type": "display_data"
    },
    {
     "name": "stdout",
     "output_type": "stream",
     "text": [
      "   id      nom   prenom  age   sexe      taille      poids  \\\n",
      "0   1    Lucas   Hélène   27  Femme  170.581370  64.015608   \n",
      "1   2  Lefèvre     Éric   26  Femme  166.379516  60.900716   \n",
      "2   3    Gomez   Jeanne   27  Homme  177.644718  69.426820   \n",
      "3   4     Huet  Thibaut   27  Homme  171.246588  64.515867   \n",
      "4   5  Loiseau   Pierre   27  Femme  161.460959  57.353211   \n",
      "\n",
      "                           bio emotion   race  ...  couple_meme_sexe  enfant  \\\n",
      "0  This is a sample biography.     sad  white  ...              True    True   \n",
      "1  This is a sample biography.    fear  white  ...             False   False   \n",
      "2  This is a sample biography.   angry  white  ...              True    True   \n",
      "3  This is a sample biography.   angry  white  ...              True    True   \n",
      "4  This is a sample biography.   happy  white  ...              True    True   \n",
      "\n",
      "   education_bac  education_bac_plus_3  latitude  longitude  \\\n",
      "0           True                 False         0          0   \n",
      "1          False                 False         0          0   \n",
      "2           True                  True         0          0   \n",
      "3           True                  True         0          0   \n",
      "4           True                 False         0          0   \n",
      "\n",
      "           IRIS code                               sentiment  \\\n",
      "0  IRIS_code_example  {'polarity': 0.0, 'subjectivity': 0.0}   \n",
      "1  IRIS_code_example  {'polarity': 0.0, 'subjectivity': 0.0}   \n",
      "2  IRIS_code_example  {'polarity': 0.0, 'subjectivity': 0.0}   \n",
      "3  IRIS_code_example  {'polarity': 0.0, 'subjectivity': 0.0}   \n",
      "4  IRIS_code_example  {'polarity': 0.0, 'subjectivity': 0.0}   \n",
      "\n",
      "  statut relationnel vivre seul  \n",
      "0             pacsée      False  \n",
      "1             marier       True  \n",
      "2             marier      False  \n",
      "3         unionlibre      False  \n",
      "4            divorce      False  \n",
      "\n",
      "[5 rows x 21 columns]\n"
     ]
    }
   ],
   "source": [
    "def generate_person_data(num_defunts, basecouple, datacouple, personnevivantseul):\n",
    "    iterable = tqdm(range(1, num_defunts + 1), desc=\"Generating persons\")\n",
    "    results = Parallel(n_jobs=-1)(delayed(create_person)(i, basecouple, datacouple, personnevivantseul) for i in iterable)\n",
    "    return results\n",
    "\n",
    "if __name__ == \"__main__\":\n",
    "    num_defunts = 100\n",
    "    defunts_data = generate_person_data(num_defunts, basecouple, datacouple, personnevivantseul)\n",
    "    df_defunts = pd.DataFrame(defunts_data)\n",
    "    df_defunts.to_excel(\"MultiGeneratedData.xlsx\", index=False)\n",
    "    print(df_defunts.head())\n"
   ],
   "metadata": {
    "collapsed": false,
    "ExecuteTime": {
     "end_time": "2024-02-03T16:28:42.323356Z",
     "start_time": "2024-02-03T16:28:23.988597Z"
    }
   },
   "id": "3c050748e247ed0a",
   "execution_count": 48
  }
 ],
 "metadata": {
  "kernelspec": {
   "display_name": "Python 3",
   "language": "python",
   "name": "python3"
  },
  "language_info": {
   "codemirror_mode": {
    "name": "ipython",
    "version": 2
   },
   "file_extension": ".py",
   "mimetype": "text/x-python",
   "name": "python",
   "nbconvert_exporter": "python",
   "pygments_lexer": "ipython2",
   "version": "2.7.6"
  }
 },
 "nbformat": 4,
 "nbformat_minor": 5
}
