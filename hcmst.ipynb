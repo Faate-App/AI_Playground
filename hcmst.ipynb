{
 "cells": [
  {
   "cell_type": "code",
   "execution_count": 108,
   "metadata": {
    "collapsed": true
   },
   "outputs": [],
   "source": [
    "import pandas as pd\n",
    "from PyPDF2 import PdfReader"
   ]
  },
  {
   "cell_type": "code",
   "execution_count": 109,
   "outputs": [
    {
     "data": {
      "text/plain": "     CaseID  CASEID_NEW      qflag  weight1  weight1_freqwt  weight2  \\\n0         2     2014039  Qualified      NaN             NaN   0.8945   \n1         3     2019003  Qualified   0.9078         71115.0      NaN   \n2         5     2145527  Qualified   0.7205         56442.0      NaN   \n3         6     2648857  Qualified   1.2597         98682.0   1.3507   \n4         7     2623465  Qualified   0.8686         68044.0      NaN   \n..      ...         ...        ...      ...             ...      ...   \n145     167     1775891  Qualified   0.9473         74209.0      NaN   \n146     168     2945785  Qualified   0.9106         71334.0      NaN   \n147     169     2177193  Qualified      NaN             NaN   0.4738   \n148     170     1178471  Qualified   0.9345         73206.0      NaN   \n149     171     2256865  Qualified   0.9150         71679.0      NaN   \n\n     weight1a  weight1a_freqwt  weight_combo  weight_combo_freqwt  ...  \\\n0         NaN              NaN      0.277188              19240.0  ...   \n1      0.9026          70707.0      1.020621              70841.0  ...   \n2      0.7164          56121.0      0.810074              56227.0  ...   \n3      1.2524          98110.0      0.418556              29052.0  ...   \n4      0.8636          67652.0      0.976522              67781.0  ...   \n..        ...              ...           ...                  ...  ...   \n145    0.9419          73786.0      1.065060              73926.0  ...   \n146    0.9054          70927.0      1.023787              71061.0  ...   \n147       NaN              NaN      0.146822              10191.0  ...   \n148    0.9291          72783.0      1.050586              72921.0  ...   \n149    0.9097          71264.0      1.028650              71399.0  ...   \n\n     hcm2017q24_met_through_family hcm2017q24_met_through_friend  \\\n0                               no                            no   \n1                               no                            no   \n2                               no                            no   \n3                               no                            no   \n4                               no                            no   \n..                             ...                           ...   \n145                             no                            no   \n146                            yes                            no   \n147                             no                           yes   \n148                             no                            no   \n149                             no                            no   \n\n    hcm2017q24_met_through_as_nghbrs hcm2017q24_met_as_through_cowork  \\\n0                                 no                               no   \n1                                 no                              yes   \n2                                 no                               no   \n3                                 no                               no   \n4                                yes                               no   \n..                               ...                              ...   \n145                               no                               no   \n146                               no                               no   \n147                               no                               no   \n148                              yes                               no   \n149                               no                               no   \n\n    w6_subject_race interracial_5cat partner_mother_yrsed  \\\n0             White               no                 12.0   \n1             White               no                 12.0   \n2             White               no                  9.0   \n3             White               no                 16.0   \n4             White               no                 14.0   \n..              ...              ...                  ...   \n145           White               no                 16.0   \n146           White               no                 12.0   \n147           White               no                 12.0   \n148           White               no                 12.0   \n149           White               no                 12.0   \n\n    subject_mother_yrsed partner_yrsed subject_yrsed  \n0                   14.0          12.0          14.0  \n1                   16.0          17.0          17.0  \n2                    7.5          14.0          17.0  \n3                   12.0          12.0          12.0  \n4                   17.0          16.0          16.0  \n..                   ...           ...           ...  \n145                 14.0          14.0          16.0  \n146                 12.0          12.0          13.0  \n147                 14.0          12.0          16.0  \n148                 10.0          16.0          12.0  \n149                 13.0          17.0          13.0  \n\n[150 rows x 285 columns]",
      "text/html": "<div>\n<style scoped>\n    .dataframe tbody tr th:only-of-type {\n        vertical-align: middle;\n    }\n\n    .dataframe tbody tr th {\n        vertical-align: top;\n    }\n\n    .dataframe thead th {\n        text-align: right;\n    }\n</style>\n<table border=\"1\" class=\"dataframe\">\n  <thead>\n    <tr style=\"text-align: right;\">\n      <th></th>\n      <th>CaseID</th>\n      <th>CASEID_NEW</th>\n      <th>qflag</th>\n      <th>weight1</th>\n      <th>weight1_freqwt</th>\n      <th>weight2</th>\n      <th>weight1a</th>\n      <th>weight1a_freqwt</th>\n      <th>weight_combo</th>\n      <th>weight_combo_freqwt</th>\n      <th>...</th>\n      <th>hcm2017q24_met_through_family</th>\n      <th>hcm2017q24_met_through_friend</th>\n      <th>hcm2017q24_met_through_as_nghbrs</th>\n      <th>hcm2017q24_met_as_through_cowork</th>\n      <th>w6_subject_race</th>\n      <th>interracial_5cat</th>\n      <th>partner_mother_yrsed</th>\n      <th>subject_mother_yrsed</th>\n      <th>partner_yrsed</th>\n      <th>subject_yrsed</th>\n    </tr>\n  </thead>\n  <tbody>\n    <tr>\n      <th>0</th>\n      <td>2</td>\n      <td>2014039</td>\n      <td>Qualified</td>\n      <td>NaN</td>\n      <td>NaN</td>\n      <td>0.8945</td>\n      <td>NaN</td>\n      <td>NaN</td>\n      <td>0.277188</td>\n      <td>19240.0</td>\n      <td>...</td>\n      <td>no</td>\n      <td>no</td>\n      <td>no</td>\n      <td>no</td>\n      <td>White</td>\n      <td>no</td>\n      <td>12.0</td>\n      <td>14.0</td>\n      <td>12.0</td>\n      <td>14.0</td>\n    </tr>\n    <tr>\n      <th>1</th>\n      <td>3</td>\n      <td>2019003</td>\n      <td>Qualified</td>\n      <td>0.9078</td>\n      <td>71115.0</td>\n      <td>NaN</td>\n      <td>0.9026</td>\n      <td>70707.0</td>\n      <td>1.020621</td>\n      <td>70841.0</td>\n      <td>...</td>\n      <td>no</td>\n      <td>no</td>\n      <td>no</td>\n      <td>yes</td>\n      <td>White</td>\n      <td>no</td>\n      <td>12.0</td>\n      <td>16.0</td>\n      <td>17.0</td>\n      <td>17.0</td>\n    </tr>\n    <tr>\n      <th>2</th>\n      <td>5</td>\n      <td>2145527</td>\n      <td>Qualified</td>\n      <td>0.7205</td>\n      <td>56442.0</td>\n      <td>NaN</td>\n      <td>0.7164</td>\n      <td>56121.0</td>\n      <td>0.810074</td>\n      <td>56227.0</td>\n      <td>...</td>\n      <td>no</td>\n      <td>no</td>\n      <td>no</td>\n      <td>no</td>\n      <td>White</td>\n      <td>no</td>\n      <td>9.0</td>\n      <td>7.5</td>\n      <td>14.0</td>\n      <td>17.0</td>\n    </tr>\n    <tr>\n      <th>3</th>\n      <td>6</td>\n      <td>2648857</td>\n      <td>Qualified</td>\n      <td>1.2597</td>\n      <td>98682.0</td>\n      <td>1.3507</td>\n      <td>1.2524</td>\n      <td>98110.0</td>\n      <td>0.418556</td>\n      <td>29052.0</td>\n      <td>...</td>\n      <td>no</td>\n      <td>no</td>\n      <td>no</td>\n      <td>no</td>\n      <td>White</td>\n      <td>no</td>\n      <td>16.0</td>\n      <td>12.0</td>\n      <td>12.0</td>\n      <td>12.0</td>\n    </tr>\n    <tr>\n      <th>4</th>\n      <td>7</td>\n      <td>2623465</td>\n      <td>Qualified</td>\n      <td>0.8686</td>\n      <td>68044.0</td>\n      <td>NaN</td>\n      <td>0.8636</td>\n      <td>67652.0</td>\n      <td>0.976522</td>\n      <td>67781.0</td>\n      <td>...</td>\n      <td>no</td>\n      <td>no</td>\n      <td>yes</td>\n      <td>no</td>\n      <td>White</td>\n      <td>no</td>\n      <td>14.0</td>\n      <td>17.0</td>\n      <td>16.0</td>\n      <td>16.0</td>\n    </tr>\n    <tr>\n      <th>...</th>\n      <td>...</td>\n      <td>...</td>\n      <td>...</td>\n      <td>...</td>\n      <td>...</td>\n      <td>...</td>\n      <td>...</td>\n      <td>...</td>\n      <td>...</td>\n      <td>...</td>\n      <td>...</td>\n      <td>...</td>\n      <td>...</td>\n      <td>...</td>\n      <td>...</td>\n      <td>...</td>\n      <td>...</td>\n      <td>...</td>\n      <td>...</td>\n      <td>...</td>\n      <td>...</td>\n    </tr>\n    <tr>\n      <th>145</th>\n      <td>167</td>\n      <td>1775891</td>\n      <td>Qualified</td>\n      <td>0.9473</td>\n      <td>74209.0</td>\n      <td>NaN</td>\n      <td>0.9419</td>\n      <td>73786.0</td>\n      <td>1.065060</td>\n      <td>73926.0</td>\n      <td>...</td>\n      <td>no</td>\n      <td>no</td>\n      <td>no</td>\n      <td>no</td>\n      <td>White</td>\n      <td>no</td>\n      <td>16.0</td>\n      <td>14.0</td>\n      <td>14.0</td>\n      <td>16.0</td>\n    </tr>\n    <tr>\n      <th>146</th>\n      <td>168</td>\n      <td>2945785</td>\n      <td>Qualified</td>\n      <td>0.9106</td>\n      <td>71334.0</td>\n      <td>NaN</td>\n      <td>0.9054</td>\n      <td>70927.0</td>\n      <td>1.023787</td>\n      <td>71061.0</td>\n      <td>...</td>\n      <td>yes</td>\n      <td>no</td>\n      <td>no</td>\n      <td>no</td>\n      <td>White</td>\n      <td>no</td>\n      <td>12.0</td>\n      <td>12.0</td>\n      <td>12.0</td>\n      <td>13.0</td>\n    </tr>\n    <tr>\n      <th>147</th>\n      <td>169</td>\n      <td>2177193</td>\n      <td>Qualified</td>\n      <td>NaN</td>\n      <td>NaN</td>\n      <td>0.4738</td>\n      <td>NaN</td>\n      <td>NaN</td>\n      <td>0.146822</td>\n      <td>10191.0</td>\n      <td>...</td>\n      <td>no</td>\n      <td>yes</td>\n      <td>no</td>\n      <td>no</td>\n      <td>White</td>\n      <td>no</td>\n      <td>12.0</td>\n      <td>14.0</td>\n      <td>12.0</td>\n      <td>16.0</td>\n    </tr>\n    <tr>\n      <th>148</th>\n      <td>170</td>\n      <td>1178471</td>\n      <td>Qualified</td>\n      <td>0.9345</td>\n      <td>73206.0</td>\n      <td>NaN</td>\n      <td>0.9291</td>\n      <td>72783.0</td>\n      <td>1.050586</td>\n      <td>72921.0</td>\n      <td>...</td>\n      <td>no</td>\n      <td>no</td>\n      <td>yes</td>\n      <td>no</td>\n      <td>White</td>\n      <td>no</td>\n      <td>12.0</td>\n      <td>10.0</td>\n      <td>16.0</td>\n      <td>12.0</td>\n    </tr>\n    <tr>\n      <th>149</th>\n      <td>171</td>\n      <td>2256865</td>\n      <td>Qualified</td>\n      <td>0.9150</td>\n      <td>71679.0</td>\n      <td>NaN</td>\n      <td>0.9097</td>\n      <td>71264.0</td>\n      <td>1.028650</td>\n      <td>71399.0</td>\n      <td>...</td>\n      <td>no</td>\n      <td>no</td>\n      <td>no</td>\n      <td>no</td>\n      <td>White</td>\n      <td>no</td>\n      <td>12.0</td>\n      <td>13.0</td>\n      <td>17.0</td>\n      <td>13.0</td>\n    </tr>\n  </tbody>\n</table>\n<p>150 rows × 285 columns</p>\n</div>"
     },
     "execution_count": 109,
     "metadata": {},
     "output_type": "execute_result"
    }
   ],
   "source": [
    "df = pd.read_stata(\"stanford data set/HCMST 2017 fresh sample for public sharing draft v1.1.dta\")\n",
    "df.head(n=150)"
   ],
   "metadata": {
    "collapsed": false
   }
  },
  {
   "cell_type": "markdown",
   "source": [],
   "metadata": {
    "collapsed": false
   }
  },
  {
   "cell_type": "code",
   "execution_count": 110,
   "outputs": [],
   "source": [
    "sourcefile = open(\"stanford data set/StanfordDatasetGuide.txt\", \"w\")\n",
    "reader = PdfReader(\"stanford data set/30103-0001-Codebook.pdf\")\n",
    "sourcefile.write(\"Stanford Dataset Guide\\n\")\n",
    "sourcefile.write(\"This is a guide to the variables in the Stanford dataset.\\n\")\n",
    "sourcefile.write(\"The dataset is a subset of the 2017 HCMST survey.\\n\")\n",
    "sourcefile.write(\"\\n\")\n",
    "sourcefile.write(\"The dataset contains 1,500 observations.\\n\")\n",
    "sourcefile.write(\"The variables are as follows:\\n\")\n",
    "sourcefile.write(\"\\n\")\n",
    "index = reader.outlines[6]"
   ],
   "metadata": {
    "collapsed": false
   }
  },
  {
   "cell_type": "code",
   "execution_count": 111,
   "outputs": [],
   "source": [
    "for i in range(0, len(index)) :\n",
    "    sourcefile.write(index[i]['/Title'])\n",
    "    sourcefile.write(\"\\n\")\n",
    "sourcefile.close()"
   ],
   "metadata": {
    "collapsed": false
   }
  }
 ],
 "metadata": {
  "kernelspec": {
   "display_name": "Python 3",
   "language": "python",
   "name": "python3"
  },
  "language_info": {
   "codemirror_mode": {
    "name": "ipython",
    "version": 2
   },
   "file_extension": ".py",
   "mimetype": "text/x-python",
   "name": "python",
   "nbconvert_exporter": "python",
   "pygments_lexer": "ipython2",
   "version": "2.7.6"
  }
 },
 "nbformat": 4,
 "nbformat_minor": 0
}
