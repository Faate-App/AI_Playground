{
 "cells": [
  {
   "cell_type": "code",
   "execution_count": 2,
   "metadata": {
    "collapsed": true
   },
   "outputs": [],
   "source": [
    "import pandas as pd\n",
    "import numpy as np\n",
    "import matplotlib.pyplot as plt"
   ]
  },
  {
   "cell_type": "code",
   "execution_count": 3,
   "outputs": [],
   "source": [
    "df = pd.read_stata(\"stanford data set/HCMST 2017 fresh sample for public sharing draft v1.1.dta\")"
   ],
   "metadata": {
    "collapsed": false
   }
  },
  {
   "cell_type": "code",
   "execution_count": 4,
   "outputs": [],
   "source": [
    "df = df.replace({'Yes': 1, 'No': 0})"
   ],
   "metadata": {
    "collapsed": false
   }
  },
  {
   "cell_type": "code",
   "execution_count": 5,
   "outputs": [
    {
     "data": {
      "text/plain": "   CaseID  CASEID_NEW      qflag  weight1  weight1_freqwt  weight2  weight1a  \\\n0       2     2014039  Qualified      NaN             NaN   0.8945       NaN   \n1       3     2019003  Qualified   0.9078         71115.0      NaN    0.9026   \n2       5     2145527  Qualified   0.7205         56442.0      NaN    0.7164   \n3       6     2648857  Qualified   1.2597         98682.0   1.3507    1.2524   \n4       7     2623465  Qualified   0.8686         68044.0      NaN    0.8636   \n\n   weight1a_freqwt  weight_combo  weight_combo_freqwt  ...  \\\n0              NaN      0.277188              19240.0  ...   \n1          70707.0      1.020621              70841.0  ...   \n2          56121.0      0.810074              56227.0  ...   \n3          98110.0      0.418556              29052.0  ...   \n4          67652.0      0.976522              67781.0  ...   \n\n   hcm2017q24_met_through_family hcm2017q24_met_through_friend  \\\n0                             no                            no   \n1                             no                            no   \n2                             no                            no   \n3                             no                            no   \n4                             no                            no   \n\n  hcm2017q24_met_through_as_nghbrs hcm2017q24_met_as_through_cowork  \\\n0                               no                               no   \n1                               no                              yes   \n2                               no                               no   \n3                               no                               no   \n4                              yes                               no   \n\n  w6_subject_race interracial_5cat partner_mother_yrsed subject_mother_yrsed  \\\n0           White               no                 12.0                 14.0   \n1           White               no                 12.0                 16.0   \n2           White               no                  9.0                  7.5   \n3           White               no                 16.0                 12.0   \n4           White               no                 14.0                 17.0   \n\n  partner_yrsed subject_yrsed  \n0          12.0          14.0  \n1          17.0          17.0  \n2          14.0          17.0  \n3          12.0          12.0  \n4          16.0          16.0  \n\n[5 rows x 285 columns]",
      "text/html": "<div>\n<style scoped>\n    .dataframe tbody tr th:only-of-type {\n        vertical-align: middle;\n    }\n\n    .dataframe tbody tr th {\n        vertical-align: top;\n    }\n\n    .dataframe thead th {\n        text-align: right;\n    }\n</style>\n<table border=\"1\" class=\"dataframe\">\n  <thead>\n    <tr style=\"text-align: right;\">\n      <th></th>\n      <th>CaseID</th>\n      <th>CASEID_NEW</th>\n      <th>qflag</th>\n      <th>weight1</th>\n      <th>weight1_freqwt</th>\n      <th>weight2</th>\n      <th>weight1a</th>\n      <th>weight1a_freqwt</th>\n      <th>weight_combo</th>\n      <th>weight_combo_freqwt</th>\n      <th>...</th>\n      <th>hcm2017q24_met_through_family</th>\n      <th>hcm2017q24_met_through_friend</th>\n      <th>hcm2017q24_met_through_as_nghbrs</th>\n      <th>hcm2017q24_met_as_through_cowork</th>\n      <th>w6_subject_race</th>\n      <th>interracial_5cat</th>\n      <th>partner_mother_yrsed</th>\n      <th>subject_mother_yrsed</th>\n      <th>partner_yrsed</th>\n      <th>subject_yrsed</th>\n    </tr>\n  </thead>\n  <tbody>\n    <tr>\n      <th>0</th>\n      <td>2</td>\n      <td>2014039</td>\n      <td>Qualified</td>\n      <td>NaN</td>\n      <td>NaN</td>\n      <td>0.8945</td>\n      <td>NaN</td>\n      <td>NaN</td>\n      <td>0.277188</td>\n      <td>19240.0</td>\n      <td>...</td>\n      <td>no</td>\n      <td>no</td>\n      <td>no</td>\n      <td>no</td>\n      <td>White</td>\n      <td>no</td>\n      <td>12.0</td>\n      <td>14.0</td>\n      <td>12.0</td>\n      <td>14.0</td>\n    </tr>\n    <tr>\n      <th>1</th>\n      <td>3</td>\n      <td>2019003</td>\n      <td>Qualified</td>\n      <td>0.9078</td>\n      <td>71115.0</td>\n      <td>NaN</td>\n      <td>0.9026</td>\n      <td>70707.0</td>\n      <td>1.020621</td>\n      <td>70841.0</td>\n      <td>...</td>\n      <td>no</td>\n      <td>no</td>\n      <td>no</td>\n      <td>yes</td>\n      <td>White</td>\n      <td>no</td>\n      <td>12.0</td>\n      <td>16.0</td>\n      <td>17.0</td>\n      <td>17.0</td>\n    </tr>\n    <tr>\n      <th>2</th>\n      <td>5</td>\n      <td>2145527</td>\n      <td>Qualified</td>\n      <td>0.7205</td>\n      <td>56442.0</td>\n      <td>NaN</td>\n      <td>0.7164</td>\n      <td>56121.0</td>\n      <td>0.810074</td>\n      <td>56227.0</td>\n      <td>...</td>\n      <td>no</td>\n      <td>no</td>\n      <td>no</td>\n      <td>no</td>\n      <td>White</td>\n      <td>no</td>\n      <td>9.0</td>\n      <td>7.5</td>\n      <td>14.0</td>\n      <td>17.0</td>\n    </tr>\n    <tr>\n      <th>3</th>\n      <td>6</td>\n      <td>2648857</td>\n      <td>Qualified</td>\n      <td>1.2597</td>\n      <td>98682.0</td>\n      <td>1.3507</td>\n      <td>1.2524</td>\n      <td>98110.0</td>\n      <td>0.418556</td>\n      <td>29052.0</td>\n      <td>...</td>\n      <td>no</td>\n      <td>no</td>\n      <td>no</td>\n      <td>no</td>\n      <td>White</td>\n      <td>no</td>\n      <td>16.0</td>\n      <td>12.0</td>\n      <td>12.0</td>\n      <td>12.0</td>\n    </tr>\n    <tr>\n      <th>4</th>\n      <td>7</td>\n      <td>2623465</td>\n      <td>Qualified</td>\n      <td>0.8686</td>\n      <td>68044.0</td>\n      <td>NaN</td>\n      <td>0.8636</td>\n      <td>67652.0</td>\n      <td>0.976522</td>\n      <td>67781.0</td>\n      <td>...</td>\n      <td>no</td>\n      <td>no</td>\n      <td>yes</td>\n      <td>no</td>\n      <td>White</td>\n      <td>no</td>\n      <td>14.0</td>\n      <td>17.0</td>\n      <td>16.0</td>\n      <td>16.0</td>\n    </tr>\n  </tbody>\n</table>\n<p>5 rows × 285 columns</p>\n</div>"
     },
     "execution_count": 5,
     "metadata": {},
     "output_type": "execute_result"
    }
   ],
   "source": [
    "df.head()"
   ],
   "metadata": {
    "collapsed": false
   }
  },
  {
   "cell_type": "markdown",
   "source": [
    "# Data Cleaning"
   ],
   "metadata": {
    "collapsed": false
   }
  },
  {
   "cell_type": "code",
   "execution_count": 126,
   "outputs": [],
   "source": [
    "columns = ['w6_q21a_year', 'w6_q21a_month', 'w6_q21b_year', 'w6_q21b_month', 'w6_q21c_year', 'w6_q21c_month', 'w6_q21d_year', 'w6_q21d_month', 'w6_q19', 'ppage', 'w6_q9']"
   ],
   "metadata": {
    "collapsed": false
   }
  },
  {
   "cell_type": "code",
   "execution_count": 127,
   "outputs": [],
   "source": [
    "for column in columns:\n",
    "    df[column] = pd.to_numeric(df[column], errors='coerce')"
   ],
   "metadata": {
    "collapsed": false
   }
  },
  {
   "cell_type": "code",
   "execution_count": 152,
   "outputs": [
    {
     "data": {
      "text/plain": "CaseID                              0\nCASEID_NEW                          0\nqflag                               0\nweight1                           516\nweight1_freqwt                    516\n                                 ... \nrelationship_satisfaction_num     654\nrelationship_satisfaction_norm    663\nrelationship_duration             247\nrelationship_duration_norm        247\ncompatibility_score               763\nLength: 290, dtype: int64"
     },
     "execution_count": 152,
     "metadata": {},
     "output_type": "execute_result"
    }
   ],
   "source": [
    "df.isna().sum()"
   ],
   "metadata": {
    "collapsed": false
   }
  },
  {
   "cell_type": "code",
   "execution_count": 52,
   "outputs": [],
   "source": [
    "# Mapping of categories to numerical values\n",
    "category_mapping = {\n",
    "    'Refused': np.nan,\n",
    "    'Excellent': 5,\n",
    "    'Good': 4,\n",
    "    'Fair': 3,\n",
    "    'Poor': 2,\n",
    "    'Very Poor': 1\n",
    "}\n",
    "\n",
    "# Replace the values in the Q34 column using the mapping\n",
    "df['satisfaction_score'] = df['Q34'].map(category_mapping)"
   ],
   "metadata": {
    "collapsed": false
   }
  },
  {
   "cell_type": "code",
   "execution_count": 53,
   "outputs": [
    {
     "data": {
      "text/plain": "5.0    1706\n4.0     884\n3.0     202\n2.0      32\n1.0      23\nName: satisfaction_score, dtype: int64"
     },
     "execution_count": 53,
     "metadata": {},
     "output_type": "execute_result"
    }
   ],
   "source": [
    "df['satisfaction_score'].value_counts()"
   ],
   "metadata": {
    "collapsed": false
   }
  },
  {
   "cell_type": "code",
   "execution_count": 16,
   "outputs": [
    {
     "ename": "TypeError",
     "evalue": "unsupported operand type(s) for -: 'Categorical' and 'Categorical'",
     "output_type": "error",
     "traceback": [
      "\u001B[0;31m---------------------------------------------------------------------------\u001B[0m",
      "\u001B[0;31mTypeError\u001B[0m                                 Traceback (most recent call last)",
      "Cell \u001B[0;32mIn[16], line 1\u001B[0m\n\u001B[0;32m----> 1\u001B[0m df[\u001B[38;5;124m'\u001B[39m\u001B[38;5;124mrelationship_duration\u001B[39m\u001B[38;5;124m'\u001B[39m] \u001B[38;5;241m=\u001B[39m (df[\u001B[38;5;124m'\u001B[39m\u001B[38;5;124mw6_q21b_year\u001B[39m\u001B[38;5;124m'\u001B[39m] \u001B[38;5;241m-\u001B[39m df[\u001B[38;5;124m'\u001B[39m\u001B[38;5;124mw6_q21a_year\u001B[39m\u001B[38;5;124m'\u001B[39m]) \u001B[38;5;241m*\u001B[39m \u001B[38;5;241m12\u001B[39m \u001B[38;5;241m+\u001B[39m (\u001B[43mdf\u001B[49m\u001B[43m[\u001B[49m\u001B[38;5;124;43m'\u001B[39;49m\u001B[38;5;124;43mw6_q21b_month\u001B[39;49m\u001B[38;5;124;43m'\u001B[39;49m\u001B[43m]\u001B[49m\u001B[43m \u001B[49m\u001B[38;5;241;43m-\u001B[39;49m\u001B[43m \u001B[49m\u001B[43mdf\u001B[49m\u001B[43m[\u001B[49m\u001B[38;5;124;43m'\u001B[39;49m\u001B[38;5;124;43mw6_q21a_month\u001B[39;49m\u001B[38;5;124;43m'\u001B[39;49m\u001B[43m]\u001B[49m)\n",
      "File \u001B[0;32m/Library/Frameworks/Python.framework/Versions/3.10/lib/python3.10/site-packages/pandas/core/ops/common.py:70\u001B[0m, in \u001B[0;36m_unpack_zerodim_and_defer.<locals>.new_method\u001B[0;34m(self, other)\u001B[0m\n\u001B[1;32m     66\u001B[0m             \u001B[38;5;28;01mreturn\u001B[39;00m \u001B[38;5;28mNotImplemented\u001B[39m\n\u001B[1;32m     68\u001B[0m other \u001B[38;5;241m=\u001B[39m item_from_zerodim(other)\n\u001B[0;32m---> 70\u001B[0m \u001B[38;5;28;01mreturn\u001B[39;00m \u001B[43mmethod\u001B[49m\u001B[43m(\u001B[49m\u001B[38;5;28;43mself\u001B[39;49m\u001B[43m,\u001B[49m\u001B[43m \u001B[49m\u001B[43mother\u001B[49m\u001B[43m)\u001B[49m\n",
      "File \u001B[0;32m/Library/Frameworks/Python.framework/Versions/3.10/lib/python3.10/site-packages/pandas/core/arraylike.py:108\u001B[0m, in \u001B[0;36mOpsMixin.__sub__\u001B[0;34m(self, other)\u001B[0m\n\u001B[1;32m    106\u001B[0m \u001B[38;5;129m@unpack_zerodim_and_defer\u001B[39m(\u001B[38;5;124m\"\u001B[39m\u001B[38;5;124m__sub__\u001B[39m\u001B[38;5;124m\"\u001B[39m)\n\u001B[1;32m    107\u001B[0m \u001B[38;5;28;01mdef\u001B[39;00m \u001B[38;5;21m__sub__\u001B[39m(\u001B[38;5;28mself\u001B[39m, other):\n\u001B[0;32m--> 108\u001B[0m     \u001B[38;5;28;01mreturn\u001B[39;00m \u001B[38;5;28;43mself\u001B[39;49m\u001B[38;5;241;43m.\u001B[39;49m\u001B[43m_arith_method\u001B[49m\u001B[43m(\u001B[49m\u001B[43mother\u001B[49m\u001B[43m,\u001B[49m\u001B[43m \u001B[49m\u001B[43moperator\u001B[49m\u001B[38;5;241;43m.\u001B[39;49m\u001B[43msub\u001B[49m\u001B[43m)\u001B[49m\n",
      "File \u001B[0;32m/Library/Frameworks/Python.framework/Versions/3.10/lib/python3.10/site-packages/pandas/core/series.py:5639\u001B[0m, in \u001B[0;36mSeries._arith_method\u001B[0;34m(self, other, op)\u001B[0m\n\u001B[1;32m   5637\u001B[0m \u001B[38;5;28;01mdef\u001B[39;00m \u001B[38;5;21m_arith_method\u001B[39m(\u001B[38;5;28mself\u001B[39m, other, op):\n\u001B[1;32m   5638\u001B[0m     \u001B[38;5;28mself\u001B[39m, other \u001B[38;5;241m=\u001B[39m ops\u001B[38;5;241m.\u001B[39malign_method_SERIES(\u001B[38;5;28mself\u001B[39m, other)\n\u001B[0;32m-> 5639\u001B[0m     \u001B[38;5;28;01mreturn\u001B[39;00m \u001B[43mbase\u001B[49m\u001B[38;5;241;43m.\u001B[39;49m\u001B[43mIndexOpsMixin\u001B[49m\u001B[38;5;241;43m.\u001B[39;49m\u001B[43m_arith_method\u001B[49m\u001B[43m(\u001B[49m\u001B[38;5;28;43mself\u001B[39;49m\u001B[43m,\u001B[49m\u001B[43m \u001B[49m\u001B[43mother\u001B[49m\u001B[43m,\u001B[49m\u001B[43m \u001B[49m\u001B[43mop\u001B[49m\u001B[43m)\u001B[49m\n",
      "File \u001B[0;32m/Library/Frameworks/Python.framework/Versions/3.10/lib/python3.10/site-packages/pandas/core/base.py:1295\u001B[0m, in \u001B[0;36mIndexOpsMixin._arith_method\u001B[0;34m(self, other, op)\u001B[0m\n\u001B[1;32m   1292\u001B[0m rvalues \u001B[38;5;241m=\u001B[39m ensure_wrapped_if_datetimelike(rvalues)\n\u001B[1;32m   1294\u001B[0m \u001B[38;5;28;01mwith\u001B[39;00m np\u001B[38;5;241m.\u001B[39merrstate(\u001B[38;5;28mall\u001B[39m\u001B[38;5;241m=\u001B[39m\u001B[38;5;124m\"\u001B[39m\u001B[38;5;124mignore\u001B[39m\u001B[38;5;124m\"\u001B[39m):\n\u001B[0;32m-> 1295\u001B[0m     result \u001B[38;5;241m=\u001B[39m \u001B[43mops\u001B[49m\u001B[38;5;241;43m.\u001B[39;49m\u001B[43marithmetic_op\u001B[49m\u001B[43m(\u001B[49m\u001B[43mlvalues\u001B[49m\u001B[43m,\u001B[49m\u001B[43m \u001B[49m\u001B[43mrvalues\u001B[49m\u001B[43m,\u001B[49m\u001B[43m \u001B[49m\u001B[43mop\u001B[49m\u001B[43m)\u001B[49m\n\u001B[1;32m   1297\u001B[0m \u001B[38;5;28;01mreturn\u001B[39;00m \u001B[38;5;28mself\u001B[39m\u001B[38;5;241m.\u001B[39m_construct_result(result, name\u001B[38;5;241m=\u001B[39mres_name)\n",
      "File \u001B[0;32m/Library/Frameworks/Python.framework/Versions/3.10/lib/python3.10/site-packages/pandas/core/ops/array_ops.py:216\u001B[0m, in \u001B[0;36marithmetic_op\u001B[0;34m(left, right, op)\u001B[0m\n\u001B[1;32m    203\u001B[0m \u001B[38;5;66;03m# NB: We assume that extract_array and ensure_wrapped_if_datetimelike\u001B[39;00m\n\u001B[1;32m    204\u001B[0m \u001B[38;5;66;03m#  have already been called on `left` and `right`,\u001B[39;00m\n\u001B[1;32m    205\u001B[0m \u001B[38;5;66;03m#  and `maybe_prepare_scalar_for_op` has already been called on `right`\u001B[39;00m\n\u001B[1;32m    206\u001B[0m \u001B[38;5;66;03m# We need to special-case datetime64/timedelta64 dtypes (e.g. because numpy\u001B[39;00m\n\u001B[1;32m    207\u001B[0m \u001B[38;5;66;03m# casts integer dtypes to timedelta64 when operating with timedelta64 - GH#22390)\u001B[39;00m\n\u001B[1;32m    209\u001B[0m \u001B[38;5;28;01mif\u001B[39;00m (\n\u001B[1;32m    210\u001B[0m     should_extension_dispatch(left, right)\n\u001B[1;32m    211\u001B[0m     \u001B[38;5;129;01mor\u001B[39;00m \u001B[38;5;28misinstance\u001B[39m(right, (Timedelta, BaseOffset, Timestamp))\n\u001B[0;32m   (...)\u001B[0m\n\u001B[1;32m    214\u001B[0m     \u001B[38;5;66;03m# Timedelta/Timestamp and other custom scalars are included in the check\u001B[39;00m\n\u001B[1;32m    215\u001B[0m     \u001B[38;5;66;03m# because numexpr will fail on it, see GH#31457\u001B[39;00m\n\u001B[0;32m--> 216\u001B[0m     res_values \u001B[38;5;241m=\u001B[39m \u001B[43mop\u001B[49m\u001B[43m(\u001B[49m\u001B[43mleft\u001B[49m\u001B[43m,\u001B[49m\u001B[43m \u001B[49m\u001B[43mright\u001B[49m\u001B[43m)\u001B[49m\n\u001B[1;32m    217\u001B[0m \u001B[38;5;28;01melse\u001B[39;00m:\n\u001B[1;32m    218\u001B[0m     \u001B[38;5;66;03m# TODO we should handle EAs consistently and move this check before the if/else\u001B[39;00m\n\u001B[1;32m    219\u001B[0m     \u001B[38;5;66;03m# (https://github.com/pandas-dev/pandas/issues/41165)\u001B[39;00m\n\u001B[1;32m    220\u001B[0m     _bool_arith_check(op, left, right)\n",
      "\u001B[0;31mTypeError\u001B[0m: unsupported operand type(s) for -: 'Categorical' and 'Categorical'"
     ]
    }
   ],
   "source": [
    "df['relationship_duration'] = (df['w6_q21b_year'] - df['w6_q21a_year']) * 12 + (df['w6_q21b_month'] - df['w6_q21a_month'])"
   ],
   "metadata": {
    "collapsed": false
   }
  },
  {
   "cell_type": "code",
   "execution_count": 54,
   "outputs": [
    {
     "data": {
      "text/plain": "array([ 0., 22., 11.,  4., 34., 35., 50., nan,  9.,  3.,  8.,  6., 13.,\n       10., 15., 43., 12., 17., 27., 25.,  2.,  7., 31., 40., 18., 29.,\n        1., 46., 20., 41., 49., 45., 62., 57., 28., 60.,  5., 30., 32.,\n       56., 36., 52., 48., 23., 44., 47., 53., 24., 14., 42., 54., 26.,\n       16., 59., 21., 38., 39., 33., 37., 65., 55., 75., 19., 64., 63.,\n       51., 58., 61., 67., 69., 66., 68., 70.])"
     },
     "execution_count": 54,
     "metadata": {},
     "output_type": "execute_result"
    }
   ],
   "source": [
    "currentYear = 2017\n",
    "df[\"RelationshipDuration\"] = currentYear - df[\"w6_q21b_year\"]\n",
    "df[\"RelationshipDuration\"].unique()"
   ],
   "metadata": {
    "collapsed": false
   }
  },
  {
   "cell_type": "code",
   "execution_count": 242,
   "outputs": [],
   "source": [
    "satisfaction_mapping = {\n",
    "    'Refused': -1,\n",
    "    'Excellent': 5,\n",
    "    'Good': 4,\n",
    "    'Fair': 3,\n",
    "    'Poor': 2,\n",
    "    'Very Poor': 1\n",
    "}\n",
    "\n",
    "# Replace satisfaction categories with numerical values\n",
    "df['relationship_satisfaction_num'] = df['Q34'].map(satisfaction_mapping)\n",
    "\n",
    "# Normalize relationship satisfaction (excluding 'Refused' responses)\n",
    "df['relationship_satisfaction_norm'] = df[df['relationship_satisfaction_num'] != -1].apply(\n",
    "    lambda row: (row['relationship_satisfaction_num'] - 1) / 4, axis=1\n",
    ")\n",
    "\n",
    "# Calculate relationship duration in months\n",
    "df['relationship_duration'] = (df['w6_q21b_year'] - df['w6_q21a_year'])\n",
    "\n",
    "# Normalize relationship duration\n",
    "duration_min = df['relationship_duration'].min()\n",
    "duration_max = df['relationship_duration'].max()\n",
    "df['relationship_duration_norm'] = (df['relationship_duration'] - duration_min) / (duration_max - duration_min)\n",
    "\n",
    "# Calculate compatibility score\n",
    "df['compatibility_score'] = 0.6 * df['relationship_satisfaction_norm'] + 0.3 * df['relationship_duration_norm'] + 0.1 * df['w6_q19']"
   ],
   "metadata": {
    "collapsed": false
   }
  },
  {
   "cell_type": "code",
   "execution_count": 247,
   "outputs": [
    {
     "data": {
      "text/plain": "True     2716\nFalse     794\nName: compatibility_score, dtype: int64"
     },
     "execution_count": 247,
     "metadata": {},
     "output_type": "execute_result"
    }
   ],
   "source": [
    "(df['compatibility_score'] < 0.8).value_counts()"
   ],
   "metadata": {
    "collapsed": false
   }
  },
  {
   "cell_type": "code",
   "execution_count": 244,
   "outputs": [
    {
     "data": {
      "text/plain": "0            NaN\n1       0.765455\n2       0.550000\n3            NaN\n4       0.700000\n          ...   \n3505    0.700000\n3506    0.455455\n3507    0.550000\n3508    0.555455\n3509    0.400000\nName: compatibility_score, Length: 3510, dtype: float64"
     },
     "execution_count": 244,
     "metadata": {},
     "output_type": "execute_result"
    }
   ],
   "source": [
    "df['compatibility_score']"
   ],
   "metadata": {
    "collapsed": false
   }
  },
  {
   "cell_type": "code",
   "execution_count": 248,
   "outputs": [],
   "source": [
    "features = ['ppgender', 'ppethm', 'ppage', 'ppeduc', 'w6_q4', 'w6_q6b', 'w6_q9', 'w6_q10', 'w6_q6a']\n",
    "target = 'compatibility_score'"
   ],
   "metadata": {
    "collapsed": false
   }
  },
  {
   "cell_type": "code",
   "execution_count": 249,
   "outputs": [],
   "source": [
    "from sklearn.model_selection import train_test_split\n",
    "from sklearn.linear_model import LinearRegression\n",
    "from sklearn.metrics import mean_squared_error\n",
    "from sklearn.preprocessing import OneHotEncoder"
   ],
   "metadata": {
    "collapsed": false
   }
  },
  {
   "cell_type": "code",
   "execution_count": 250,
   "outputs": [],
   "source": [
    "dfClean = df[features + [target]].dropna()"
   ],
   "metadata": {
    "collapsed": false
   }
  },
  {
   "cell_type": "code",
   "execution_count": 251,
   "outputs": [],
   "source": [
    "cat_features = ['ppgender', 'ppethm', 'ppeduc', 'w6_q4', 'w6_q6b', 'w6_q10', 'w6_q6a']"
   ],
   "metadata": {
    "collapsed": false
   }
  },
  {
   "cell_type": "code",
   "execution_count": 252,
   "outputs": [],
   "source": [
    "def encode_categorical_features(data, features):\n",
    "    \"\"\"Encode categorical features using one-hot encoding.\"\"\"\n",
    "    enc = OneHotEncoder(handle_unknown='ignore')\n",
    "    encoded_features = enc.fit_transform(data[features]).toarray()\n",
    "    encoded_feature_names = enc.get_feature_names_out(features)\n",
    "\n",
    "    df_encoded = pd.DataFrame(encoded_features, columns=encoded_feature_names, index=data.index)\n",
    "    data = pd.concat([data.drop(features, axis=1), df_encoded], axis=1)\n",
    "\n",
    "    return data"
   ],
   "metadata": {
    "collapsed": false
   }
  },
  {
   "cell_type": "markdown",
   "source": [
    "# Linear Regression"
   ],
   "metadata": {
    "collapsed": false
   }
  },
  {
   "cell_type": "code",
   "execution_count": 253,
   "outputs": [],
   "source": [
    "dfClean = encode_categorical_features(dfClean, cat_features)\n",
    "X = dfClean.drop(target, axis=1)\n",
    "y = dfClean[target]\n",
    "X_train, X_test, y_train, y_test = train_test_split(X, y, test_size=0.3, random_state=42)"
   ],
   "metadata": {
    "collapsed": false
   }
  },
  {
   "cell_type": "code",
   "execution_count": 254,
   "outputs": [
    {
     "name": "stdout",
     "output_type": "stream",
     "text": [
      "RMSE: 0.12588157155414\n",
      "MSE: 0.01584617005694007\n"
     ]
    }
   ],
   "source": [
    "\n",
    "# Entraînement du modèle de régression linéaire\n",
    "reg = LinearRegression()\n",
    "reg.fit(X_train, y_train)\n",
    "\n",
    "# Prédiction sur l'ensemble de test\n",
    "y_pred = reg.predict(X_test)\n",
    "\n",
    "# Calcul de l'erreur quadratique moyenne (RMSE)\n",
    "rmse = np.sqrt(mean_squared_error(y_test, y_pred))\n",
    "print(f\"RMSE: {rmse}\")\n",
    "mse = mean_squared_error(y_test, y_pred)\n",
    "print(f\"MSE: {mse}\")"
   ],
   "metadata": {
    "collapsed": false
   }
  },
  {
   "cell_type": "code",
   "execution_count": 255,
   "outputs": [
    {
     "data": {
      "text/plain": "3428    0.005455\n3468    0.705455\n2905    0.705455\n3226    0.700000\n2052    0.550000\n          ...   \n2795    0.705455\n176     0.700000\n445     0.600000\n2634    0.550000\n1974    0.605455\nName: compatibility_score, Length: 825, dtype: float64"
     },
     "execution_count": 255,
     "metadata": {},
     "output_type": "execute_result"
    }
   ],
   "source": [
    "y_test"
   ],
   "metadata": {
    "collapsed": false
   }
  },
  {
   "cell_type": "code",
   "execution_count": 256,
   "outputs": [
    {
     "data": {
      "text/plain": "27    97\n28    92\n58    89\n55    85\n57    83\n      ..\n93     2\n89     2\n91     2\n92     1\n88     1\nName: ppage, Length: 76, dtype: int64"
     },
     "execution_count": 256,
     "metadata": {},
     "output_type": "execute_result"
    }
   ],
   "source": [
    "df['ppage'].value_counts()"
   ],
   "metadata": {
    "collapsed": false
   }
  },
  {
   "cell_type": "code",
   "execution_count": 257,
   "outputs": [
    {
     "data": {
      "text/plain": "['No (Not Latino or Hispanic)', NaN, 'Yes, Mexican, Mexican American, Chicano', 'Yes, Other Latino/Hispanic', 'Yes, Puerto Rican', 'Yes, Cuban', 'Refused']\nCategories (6, object): ['Refused' < 'No (Not Latino or Hispanic)' < 'Yes, Mexican, Mexican American, Chicano' < 'Yes, Puerto Rican' < 'Yes, Cuban' < 'Yes, Other Latino/Hispanic']"
     },
     "execution_count": 257,
     "metadata": {},
     "output_type": "execute_result"
    }
   ],
   "source": [
    "df['w6_q6a'].unique()"
   ],
   "metadata": {
    "collapsed": false
   }
  },
  {
   "cell_type": "code",
   "execution_count": 268,
   "outputs": [],
   "source": [
    "# Create custom datapoint\n",
    "custom_datapoint = {\n",
    "    'ppgender': 'Male',\n",
    "    'ppethm': 'White, Non-Hispanic',\n",
    "    'ppage': 22,\n",
    "    'ppeduc': 'Master\\'s degree',\n",
    "    'w6_q4': '[Partner Name] is Female',\n",
    "    'w6_q6b': 'Black, Non-Hispanic',\n",
    "    'w6_q6a': 'No (Not Latino or Hispanic)',\n",
    "    'w6_q9': 20,\n",
    "    'w6_q10': 'Bachelor\\'s degree'\n",
    "}\n",
    "\n",
    "# Convert to dataframe\n",
    "custom_datapoint = pd.DataFrame(custom_datapoint, index=[0])\n",
    "custom_datapoint = encode_categorical_features(custom_datapoint, cat_features)"
   ],
   "metadata": {
    "collapsed": false
   }
  },
  {
   "cell_type": "code",
   "execution_count": 280,
   "outputs": [
    {
     "data": {
      "text/plain": "54"
     },
     "execution_count": 280,
     "metadata": {},
     "output_type": "execute_result"
    }
   ],
   "source": [
    "dfClean.shape[1]"
   ],
   "metadata": {
    "collapsed": false
   }
  },
  {
   "cell_type": "code",
   "execution_count": 269,
   "outputs": [],
   "source": [
    "# Compare cols to X_train and fill missing cols with 0"
   ],
   "metadata": {
    "collapsed": false
   }
  },
  {
   "cell_type": "code",
   "execution_count": 270,
   "outputs": [],
   "source": [
    "for col in X_train.columns:\n",
    "    if col not in custom_datapoint.columns:\n",
    "        custom_datapoint[col] = 0"
   ],
   "metadata": {
    "collapsed": false
   }
  },
  {
   "cell_type": "code",
   "execution_count": 271,
   "outputs": [],
   "source": [
    "# Order cols to match X_train\n",
    "custom_datapoint = custom_datapoint[X_train.columns]"
   ],
   "metadata": {
    "collapsed": false
   }
  },
  {
   "cell_type": "code",
   "execution_count": 272,
   "outputs": [
    {
     "data": {
      "text/plain": "array([0.57082051])"
     },
     "execution_count": 272,
     "metadata": {},
     "output_type": "execute_result"
    }
   ],
   "source": [
    "reg.predict(custom_datapoint)"
   ],
   "metadata": {
    "collapsed": false
   }
  },
  {
   "cell_type": "code",
   "execution_count": 288,
   "outputs": [
    {
     "name": "stdout",
     "output_type": "stream",
     "text": [
      "Shape of X_train: (1922, 53)\n"
     ]
    }
   ],
   "source": [
    "from tensorflow import keras\n",
    "\n",
    "# Define the model architecture\n",
    "model = keras.Sequential([\n",
    "    keras.layers.Dense(64, activation='relu', input_shape=(53,)),\n",
    "    keras.layers.Dense(32, activation='relu'),\n",
    "    keras.layers.Dense(1)\n",
    "])\n",
    "\n",
    "# Print the shape of the training data\n",
    "print(\"Shape of X_train:\", X_train.shape) # This should be (number_of_rows, 53)\n",
    "\n",
    "# Compile the model\n",
    "model.compile(optimizer='adam', loss='mse', metrics=['mae'])"
   ],
   "metadata": {
    "collapsed": false
   }
  },
  {
   "cell_type": "code",
   "execution_count": 282,
   "outputs": [
    {
     "name": "stdout",
     "output_type": "stream",
     "text": [
      "Epoch 1/100\n",
      "61/61 [==============================] - 0s 2ms/step - loss: 1.5098 - mae: 0.8063 - val_loss: 0.1168 - val_mae: 0.2733\n",
      "Epoch 2/100\n",
      "61/61 [==============================] - 0s 843us/step - loss: 0.1010 - mae: 0.2550 - val_loss: 0.0680 - val_mae: 0.2080\n",
      "Epoch 3/100\n",
      "61/61 [==============================] - 0s 792us/step - loss: 0.0524 - mae: 0.1825 - val_loss: 0.0405 - val_mae: 0.1662\n",
      "Epoch 4/100\n",
      "61/61 [==============================] - 0s 808us/step - loss: 0.0287 - mae: 0.1327 - val_loss: 0.0217 - val_mae: 0.1141\n",
      "Epoch 5/100\n",
      "61/61 [==============================] - 0s 781us/step - loss: 0.0230 - mae: 0.1183 - val_loss: 0.0182 - val_mae: 0.1011\n",
      "Epoch 6/100\n",
      "61/61 [==============================] - 0s 826us/step - loss: 0.0245 - mae: 0.1228 - val_loss: 0.0181 - val_mae: 0.1003\n",
      "Epoch 7/100\n",
      "61/61 [==============================] - 0s 778us/step - loss: 0.0188 - mae: 0.1071 - val_loss: 0.0181 - val_mae: 0.1056\n",
      "Epoch 8/100\n",
      "61/61 [==============================] - 0s 778us/step - loss: 0.0181 - mae: 0.1041 - val_loss: 0.0184 - val_mae: 0.1075\n",
      "Epoch 9/100\n",
      "61/61 [==============================] - 0s 763us/step - loss: 0.0168 - mae: 0.0998 - val_loss: 0.0252 - val_mae: 0.1335\n",
      "Epoch 10/100\n",
      "61/61 [==============================] - 0s 779us/step - loss: 0.0201 - mae: 0.1112 - val_loss: 0.0183 - val_mae: 0.1028\n",
      "Epoch 11/100\n",
      "61/61 [==============================] - 0s 757us/step - loss: 0.0173 - mae: 0.1022 - val_loss: 0.0172 - val_mae: 0.1021\n",
      "Epoch 12/100\n",
      "61/61 [==============================] - 0s 770us/step - loss: 0.0167 - mae: 0.1000 - val_loss: 0.0179 - val_mae: 0.1022\n",
      "Epoch 13/100\n",
      "61/61 [==============================] - 0s 748us/step - loss: 0.0164 - mae: 0.0995 - val_loss: 0.0319 - val_mae: 0.1534\n",
      "Epoch 14/100\n",
      "61/61 [==============================] - 0s 731us/step - loss: 0.0206 - mae: 0.1128 - val_loss: 0.0182 - val_mae: 0.0960\n",
      "Epoch 15/100\n",
      "61/61 [==============================] - 0s 752us/step - loss: 0.0167 - mae: 0.1006 - val_loss: 0.0416 - val_mae: 0.1787\n",
      "Epoch 16/100\n",
      "61/61 [==============================] - 0s 774us/step - loss: 0.0228 - mae: 0.1175 - val_loss: 0.0240 - val_mae: 0.1140\n",
      "Epoch 17/100\n",
      "61/61 [==============================] - 0s 777us/step - loss: 0.0213 - mae: 0.1136 - val_loss: 0.0209 - val_mae: 0.1012\n",
      "Epoch 18/100\n",
      "61/61 [==============================] - 0s 732us/step - loss: 0.0172 - mae: 0.1019 - val_loss: 0.0183 - val_mae: 0.0986\n",
      "Epoch 19/100\n",
      "61/61 [==============================] - 0s 763us/step - loss: 0.0179 - mae: 0.1039 - val_loss: 0.0253 - val_mae: 0.1161\n",
      "Epoch 20/100\n",
      "61/61 [==============================] - 0s 723us/step - loss: 0.0165 - mae: 0.0994 - val_loss: 0.0193 - val_mae: 0.1141\n",
      "Epoch 21/100\n",
      "61/61 [==============================] - 0s 771us/step - loss: 0.0176 - mae: 0.1028 - val_loss: 0.0388 - val_mae: 0.1726\n",
      "Epoch 22/100\n",
      "61/61 [==============================] - 0s 761us/step - loss: 0.0212 - mae: 0.1112 - val_loss: 0.0372 - val_mae: 0.1676\n",
      "Epoch 23/100\n",
      "61/61 [==============================] - 0s 755us/step - loss: 0.0189 - mae: 0.1066 - val_loss: 0.0185 - val_mae: 0.1093\n",
      "Epoch 24/100\n",
      "61/61 [==============================] - 0s 794us/step - loss: 0.0172 - mae: 0.1023 - val_loss: 0.0200 - val_mae: 0.1172\n",
      "Epoch 25/100\n",
      "61/61 [==============================] - 0s 755us/step - loss: 0.0162 - mae: 0.0987 - val_loss: 0.0175 - val_mae: 0.1010\n",
      "Epoch 26/100\n",
      "61/61 [==============================] - 0s 766us/step - loss: 0.0218 - mae: 0.1143 - val_loss: 0.0182 - val_mae: 0.1104\n",
      "Epoch 27/100\n",
      "61/61 [==============================] - 0s 739us/step - loss: 0.0171 - mae: 0.1017 - val_loss: 0.0167 - val_mae: 0.0996\n",
      "Epoch 28/100\n",
      "61/61 [==============================] - 0s 745us/step - loss: 0.0158 - mae: 0.0978 - val_loss: 0.0250 - val_mae: 0.1157\n",
      "Epoch 29/100\n",
      "61/61 [==============================] - 0s 782us/step - loss: 0.0177 - mae: 0.1033 - val_loss: 0.0207 - val_mae: 0.1038\n",
      "Epoch 30/100\n",
      "61/61 [==============================] - 0s 761us/step - loss: 0.0165 - mae: 0.0996 - val_loss: 0.0172 - val_mae: 0.1038\n",
      "Epoch 31/100\n",
      "61/61 [==============================] - 0s 746us/step - loss: 0.0171 - mae: 0.1018 - val_loss: 0.0276 - val_mae: 0.1227\n",
      "Epoch 32/100\n",
      "61/61 [==============================] - 0s 754us/step - loss: 0.0223 - mae: 0.1175 - val_loss: 0.0173 - val_mae: 0.1001\n",
      "Epoch 33/100\n",
      "61/61 [==============================] - 0s 757us/step - loss: 0.0195 - mae: 0.1081 - val_loss: 0.0199 - val_mae: 0.0991\n",
      "Epoch 34/100\n",
      "61/61 [==============================] - 0s 744us/step - loss: 0.0200 - mae: 0.1096 - val_loss: 0.0180 - val_mae: 0.0962\n",
      "Epoch 35/100\n",
      "61/61 [==============================] - 0s 753us/step - loss: 0.0172 - mae: 0.1012 - val_loss: 0.0290 - val_mae: 0.1269\n",
      "Epoch 36/100\n",
      "61/61 [==============================] - 0s 762us/step - loss: 0.0159 - mae: 0.0974 - val_loss: 0.0164 - val_mae: 0.0979\n",
      "Epoch 37/100\n",
      "61/61 [==============================] - 0s 732us/step - loss: 0.0159 - mae: 0.0981 - val_loss: 0.0195 - val_mae: 0.0977\n",
      "Epoch 38/100\n",
      "61/61 [==============================] - 0s 742us/step - loss: 0.0177 - mae: 0.1038 - val_loss: 0.0408 - val_mae: 0.1744\n",
      "Epoch 39/100\n",
      "61/61 [==============================] - 0s 732us/step - loss: 0.0179 - mae: 0.1035 - val_loss: 0.0215 - val_mae: 0.1047\n",
      "Epoch 40/100\n",
      "61/61 [==============================] - 0s 776us/step - loss: 0.0172 - mae: 0.1016 - val_loss: 0.0431 - val_mae: 0.1665\n",
      "Epoch 41/100\n",
      "61/61 [==============================] - 0s 772us/step - loss: 0.0185 - mae: 0.1049 - val_loss: 0.0792 - val_mae: 0.2539\n",
      "Epoch 42/100\n",
      "61/61 [==============================] - 0s 767us/step - loss: 0.0210 - mae: 0.1118 - val_loss: 0.0202 - val_mae: 0.1179\n",
      "Epoch 43/100\n",
      "61/61 [==============================] - 0s 750us/step - loss: 0.0176 - mae: 0.1047 - val_loss: 0.0426 - val_mae: 0.1637\n",
      "Epoch 44/100\n",
      "61/61 [==============================] - 0s 740us/step - loss: 0.0188 - mae: 0.1067 - val_loss: 0.0183 - val_mae: 0.0952\n",
      "Epoch 45/100\n",
      "61/61 [==============================] - 0s 753us/step - loss: 0.0171 - mae: 0.1012 - val_loss: 0.0305 - val_mae: 0.1500\n",
      "Epoch 46/100\n",
      "61/61 [==============================] - 0s 750us/step - loss: 0.0213 - mae: 0.1127 - val_loss: 0.0187 - val_mae: 0.0961\n",
      "Epoch 47/100\n",
      "61/61 [==============================] - 0s 881us/step - loss: 0.0178 - mae: 0.1037 - val_loss: 0.0245 - val_mae: 0.1322\n",
      "Epoch 48/100\n",
      "61/61 [==============================] - 0s 767us/step - loss: 0.0206 - mae: 0.1114 - val_loss: 0.0384 - val_mae: 0.1522\n",
      "Epoch 49/100\n",
      "61/61 [==============================] - 0s 768us/step - loss: 0.0179 - mae: 0.1039 - val_loss: 0.0477 - val_mae: 0.1771\n",
      "Epoch 50/100\n",
      "61/61 [==============================] - 0s 760us/step - loss: 0.0258 - mae: 0.1253 - val_loss: 0.0204 - val_mae: 0.1182\n",
      "Epoch 51/100\n",
      "61/61 [==============================] - 0s 760us/step - loss: 0.0270 - mae: 0.1277 - val_loss: 0.0170 - val_mae: 0.0973\n",
      "Epoch 52/100\n",
      "61/61 [==============================] - 0s 760us/step - loss: 0.0175 - mae: 0.1024 - val_loss: 0.0181 - val_mae: 0.0951\n",
      "Epoch 53/100\n",
      "61/61 [==============================] - 0s 790us/step - loss: 0.0181 - mae: 0.1035 - val_loss: 0.0190 - val_mae: 0.0977\n",
      "Epoch 54/100\n",
      "61/61 [==============================] - 0s 760us/step - loss: 0.0178 - mae: 0.1041 - val_loss: 0.0520 - val_mae: 0.2028\n",
      "Epoch 55/100\n",
      "61/61 [==============================] - 0s 757us/step - loss: 0.0187 - mae: 0.1064 - val_loss: 0.0195 - val_mae: 0.0977\n",
      "Epoch 56/100\n",
      "61/61 [==============================] - 0s 745us/step - loss: 0.0187 - mae: 0.1053 - val_loss: 0.0175 - val_mae: 0.1006\n",
      "Epoch 57/100\n",
      "61/61 [==============================] - 0s 750us/step - loss: 0.0229 - mae: 0.1207 - val_loss: 0.0591 - val_mae: 0.1973\n",
      "Epoch 58/100\n",
      "61/61 [==============================] - 0s 749us/step - loss: 0.0191 - mae: 0.1054 - val_loss: 0.0200 - val_mae: 0.0972\n",
      "Epoch 59/100\n",
      "61/61 [==============================] - 0s 734us/step - loss: 0.0164 - mae: 0.0979 - val_loss: 0.0184 - val_mae: 0.0963\n",
      "Epoch 60/100\n",
      "61/61 [==============================] - 0s 762us/step - loss: 0.0167 - mae: 0.1001 - val_loss: 0.0210 - val_mae: 0.1011\n",
      "Epoch 61/100\n",
      "61/61 [==============================] - 0s 762us/step - loss: 0.0181 - mae: 0.1045 - val_loss: 0.0172 - val_mae: 0.1048\n",
      "Epoch 62/100\n",
      "61/61 [==============================] - 0s 767us/step - loss: 0.0184 - mae: 0.1069 - val_loss: 0.0827 - val_mae: 0.2585\n",
      "Epoch 63/100\n",
      "61/61 [==============================] - 0s 779us/step - loss: 0.0314 - mae: 0.1372 - val_loss: 0.0230 - val_mae: 0.1073\n",
      "Epoch 64/100\n",
      "61/61 [==============================] - 0s 805us/step - loss: 0.0176 - mae: 0.1038 - val_loss: 0.0178 - val_mae: 0.1077\n",
      "Epoch 65/100\n",
      "61/61 [==============================] - 0s 765us/step - loss: 0.0203 - mae: 0.1109 - val_loss: 0.0204 - val_mae: 0.1169\n",
      "Epoch 66/100\n",
      "61/61 [==============================] - 0s 750us/step - loss: 0.0207 - mae: 0.1124 - val_loss: 0.0292 - val_mae: 0.1445\n",
      "Epoch 67/100\n",
      "61/61 [==============================] - 0s 746us/step - loss: 0.0200 - mae: 0.1111 - val_loss: 0.0374 - val_mae: 0.1508\n",
      "Epoch 68/100\n",
      "61/61 [==============================] - 0s 758us/step - loss: 0.0176 - mae: 0.1033 - val_loss: 0.0295 - val_mae: 0.1289\n",
      "Epoch 69/100\n",
      "61/61 [==============================] - 0s 775us/step - loss: 0.0179 - mae: 0.1037 - val_loss: 0.0396 - val_mae: 0.1717\n",
      "Epoch 70/100\n",
      "61/61 [==============================] - 0s 756us/step - loss: 0.0203 - mae: 0.1117 - val_loss: 0.0344 - val_mae: 0.1605\n",
      "Epoch 71/100\n",
      "61/61 [==============================] - 0s 785us/step - loss: 0.0183 - mae: 0.1058 - val_loss: 0.0167 - val_mae: 0.0994\n",
      "Epoch 72/100\n",
      "61/61 [==============================] - 0s 757us/step - loss: 0.0156 - mae: 0.0971 - val_loss: 0.0674 - val_mae: 0.2185\n",
      "Epoch 73/100\n",
      "61/61 [==============================] - 0s 759us/step - loss: 0.0199 - mae: 0.1082 - val_loss: 0.0171 - val_mae: 0.1019\n",
      "Epoch 74/100\n",
      "61/61 [==============================] - 0s 792us/step - loss: 0.0169 - mae: 0.1016 - val_loss: 0.0201 - val_mae: 0.0985\n",
      "Epoch 75/100\n",
      "61/61 [==============================] - 0s 763us/step - loss: 0.0160 - mae: 0.0974 - val_loss: 0.0408 - val_mae: 0.1776\n",
      "Epoch 76/100\n",
      "61/61 [==============================] - 0s 758us/step - loss: 0.0297 - mae: 0.1382 - val_loss: 0.0676 - val_mae: 0.2181\n",
      "Epoch 77/100\n",
      "61/61 [==============================] - 0s 750us/step - loss: 0.0204 - mae: 0.1105 - val_loss: 0.0605 - val_mae: 0.2045\n",
      "Epoch 78/100\n",
      "61/61 [==============================] - 0s 766us/step - loss: 0.0185 - mae: 0.1056 - val_loss: 0.0406 - val_mae: 0.1772\n",
      "Epoch 79/100\n",
      "61/61 [==============================] - 0s 747us/step - loss: 0.0166 - mae: 0.1009 - val_loss: 0.0196 - val_mae: 0.1157\n",
      "Epoch 80/100\n",
      "61/61 [==============================] - 0s 753us/step - loss: 0.0163 - mae: 0.0982 - val_loss: 0.0282 - val_mae: 0.1415\n",
      "Epoch 81/100\n",
      "61/61 [==============================] - 0s 741us/step - loss: 0.0154 - mae: 0.0971 - val_loss: 0.0387 - val_mae: 0.1720\n",
      "Epoch 82/100\n",
      "61/61 [==============================] - 0s 773us/step - loss: 0.0182 - mae: 0.1037 - val_loss: 0.0183 - val_mae: 0.0952\n",
      "Epoch 83/100\n",
      "61/61 [==============================] - 0s 761us/step - loss: 0.0192 - mae: 0.1073 - val_loss: 0.0188 - val_mae: 0.1104\n",
      "Epoch 84/100\n",
      "61/61 [==============================] - 0s 749us/step - loss: 0.0185 - mae: 0.1052 - val_loss: 0.0309 - val_mae: 0.1505\n",
      "Epoch 85/100\n",
      "61/61 [==============================] - 0s 765us/step - loss: 0.0179 - mae: 0.1042 - val_loss: 0.0271 - val_mae: 0.1211\n",
      "Epoch 86/100\n",
      "61/61 [==============================] - 0s 723us/step - loss: 0.0183 - mae: 0.1054 - val_loss: 0.0177 - val_mae: 0.0953\n",
      "Epoch 87/100\n",
      "61/61 [==============================] - 0s 748us/step - loss: 0.0165 - mae: 0.0998 - val_loss: 0.0243 - val_mae: 0.1130\n",
      "Epoch 88/100\n",
      "61/61 [==============================] - 0s 751us/step - loss: 0.0166 - mae: 0.1004 - val_loss: 0.0361 - val_mae: 0.1471\n",
      "Epoch 89/100\n",
      "61/61 [==============================] - 0s 742us/step - loss: 0.0281 - mae: 0.1342 - val_loss: 0.0170 - val_mae: 0.0963\n",
      "Epoch 90/100\n",
      "61/61 [==============================] - 0s 755us/step - loss: 0.0155 - mae: 0.0964 - val_loss: 0.0542 - val_mae: 0.2061\n",
      "Epoch 91/100\n",
      "61/61 [==============================] - 0s 735us/step - loss: 0.0191 - mae: 0.1073 - val_loss: 0.0174 - val_mae: 0.1038\n",
      "Epoch 92/100\n",
      "61/61 [==============================] - 0s 730us/step - loss: 0.0153 - mae: 0.0948 - val_loss: 0.0169 - val_mae: 0.0977\n",
      "Epoch 93/100\n",
      "61/61 [==============================] - 0s 738us/step - loss: 0.0152 - mae: 0.0951 - val_loss: 0.0171 - val_mae: 0.0974\n",
      "Epoch 94/100\n",
      "61/61 [==============================] - 0s 703us/step - loss: 0.0161 - mae: 0.0988 - val_loss: 0.0243 - val_mae: 0.1066\n",
      "Epoch 95/100\n",
      "61/61 [==============================] - 0s 693us/step - loss: 0.0166 - mae: 0.0968 - val_loss: 0.0179 - val_mae: 0.0959\n",
      "Epoch 96/100\n",
      "61/61 [==============================] - 0s 737us/step - loss: 0.0151 - mae: 0.0954 - val_loss: 0.0178 - val_mae: 0.1020\n",
      "Epoch 97/100\n",
      "61/61 [==============================] - 0s 752us/step - loss: 0.0164 - mae: 0.0996 - val_loss: 0.0175 - val_mae: 0.0979\n",
      "Epoch 98/100\n",
      "61/61 [==============================] - 0s 747us/step - loss: 0.0157 - mae: 0.0968 - val_loss: 0.0248 - val_mae: 0.1317\n",
      "Epoch 99/100\n",
      "61/61 [==============================] - 0s 732us/step - loss: 0.0173 - mae: 0.1012 - val_loss: 0.0177 - val_mae: 0.1040\n",
      "Epoch 100/100\n",
      "61/61 [==============================] - 0s 746us/step - loss: 0.0178 - mae: 0.1038 - val_loss: 0.0214 - val_mae: 0.1185\n"
     ]
    }
   ],
   "source": [
    "# Train the model\n",
    "history = model.fit(X_train, y_train, epochs=100, batch_size=32, validation_data=(X_test, y_test))"
   ],
   "metadata": {
    "collapsed": false
   }
  },
  {
   "cell_type": "code",
   "execution_count": 284,
   "outputs": [
    {
     "name": "stdout",
     "output_type": "stream",
     "text": [
      "26/26 [==============================] - 0s 395us/step - loss: 0.0214 - mae: 0.1185\n",
      "Mean Absolute Error: 0.11853589862585068\n"
     ]
    }
   ],
   "source": [
    "# Evaluate the model\n",
    "loss, mae = model.evaluate(X_test, y_test)\n",
    "print(\"Mean Absolute Error:\", mae)"
   ],
   "metadata": {
    "collapsed": false
   }
  },
  {
   "cell_type": "code",
   "execution_count": 285,
   "outputs": [
    {
     "name": "stdout",
     "output_type": "stream",
     "text": [
      "1/1 [==============================] - 0s 33ms/step\n"
     ]
    },
    {
     "data": {
      "text/plain": "array([[0.45309287]], dtype=float32)"
     },
     "execution_count": 285,
     "metadata": {},
     "output_type": "execute_result"
    }
   ],
   "source": [
    "model.predict(custom_datapoint)"
   ],
   "metadata": {
    "collapsed": false
   }
  },
  {
   "cell_type": "code",
   "execution_count": 287,
   "outputs": [
    {
     "data": {
      "text/plain": "<Figure size 640x480 with 1 Axes>",
      "image/png": "[encoded data removed]"
     },
     "metadata": {},
     "output_type": "display_data"
    },
    {
     "data": {
      "text/plain": "<Figure size 640x480 with 1 Axes>",
      "image/png": "[encoded data removed]"
     },
     "metadata": {},
     "output_type": "display_data"
    }
   ],
   "source": [
    "# Plot y pref vs y test and draw a line of best fit\n",
    "plt.scatter(y_test, y_pred)\n",
    "plt.xlabel('True Values')\n",
    "plt.ylabel('Predictions')\n",
    "plt.show()\n",
    "\n",
    "# Plot the training and validation loss\n",
    "plt.plot(history.history['loss'], label='Training Loss')\n",
    "plt.plot(history.history['val_loss'], label='Validation Loss')\n",
    "plt.xlabel('Epoch')\n",
    "plt.ylabel('Loss')\n",
    "plt.legend()\n",
    "plt.show()"
   ],
   "metadata": {
    "collapsed": false
   }
  },
  {
   "cell_type": "code",
   "execution_count": null,
   "outputs": [],
   "source": [],
   "metadata": {
    "collapsed": false
   }
  }
 ],
 "metadata": {
  "kernelspec": {
   "display_name": "Python 3",
   "language": "python",
   "name": "python3"
  },
  "language_info": {
   "codemirror_mode": {
    "name": "ipython",
    "version": 2
   },
   "file_extension": ".py",
   "mimetype": "text/x-python",
   "name": "python",
   "nbconvert_exporter": "python",
   "pygments_lexer": "ipython2",
   "version": "2.7.6"
  }
 },
 "nbformat": 4,
 "nbformat_minor": 0
}
